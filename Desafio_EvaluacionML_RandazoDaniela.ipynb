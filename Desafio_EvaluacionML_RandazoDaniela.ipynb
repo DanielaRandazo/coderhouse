{
  "nbformat": 4,
  "nbformat_minor": 0,
  "metadata": {
    "colab": {
      "provenance": [],
      "include_colab_link": true
    },
    "kernelspec": {
      "name": "python3",
      "display_name": "Python 3"
    },
    "language_info": {
      "name": "python"
    }
  },
  "cells": [
    {
      "cell_type": "markdown",
      "metadata": {
        "id": "view-in-github",
        "colab_type": "text"
      },
      "source": [
        "<a href=\"https://colab.research.google.com/github/DanielaRandazo/coderhouse/blob/main/Desafio_AlgoritmoML_MVP_RandazoDaniela.ipynb\" target=\"_parent\"><img src=\"https://colab.research.google.com/assets/colab-badge.svg\" alt=\"Open In Colab\"/></a>"
      ]
    },
    {
      "cell_type": "markdown",
      "source": [
        "# Importo Librerias"
      ],
      "metadata": {
        "id": "rbijyLaYUJYP"
      }
    },
    {
      "cell_type": "code",
      "source": [
        "from google.colab import drive\n",
        "drive.mount('/CoderHouse')"
      ],
      "metadata": {
        "colab": {
          "base_uri": "https://localhost:8080/"
        },
        "id": "_993nc7nr8Zs",
        "outputId": "5bff85f8-ffb5-4067-8aa0-096fafdb84de"
      },
      "execution_count": 3,
      "outputs": [
        {
          "output_type": "stream",
          "name": "stdout",
          "text": [
            "Mounted at /CoderHouse\n"
          ]
        }
      ]
    },
    {
      "cell_type": "code",
      "execution_count": 4,
      "metadata": {
        "id": "YDDqB5HZJcQ3"
      },
      "outputs": [],
      "source": [
        "import pandas as pd\n",
        "import seaborn as sns\n",
        "from sklearn.model_selection import train_test_split\n",
        "from sklearn.preprocessing import StandardScaler, OneHotEncoder\n",
        "from sklearn.compose import ColumnTransformer\n",
        "from sklearn.pipeline import Pipeline\n",
        "from sklearn.linear_model import LinearRegression\n",
        "from sklearn.metrics import mean_squared_error, r2_score\n",
        "\n",
        "import matplotlib.pyplot as plt\n",
        "DF_IMDB = pd.read_csv('/CoderHouse/MyDrive/CoderHouse/IMDB.csv')"
      ]
    },
    {
      "cell_type": "code",
      "source": [
        "print(DF_IMDB.columns)"
      ],
      "metadata": {
        "colab": {
          "base_uri": "https://localhost:8080/"
        },
        "id": "o9ejVnrFBrxf",
        "outputId": "f36724a3-94dd-4a90-bc40-258a292b9363"
      },
      "execution_count": 5,
      "outputs": [
        {
          "output_type": "stream",
          "name": "stdout",
          "text": [
            "Index(['Unnamed: 0', 'index', 'tconst', 'titleType', 'primaryTitle',\n",
            "       'originalTitle', 'isAdult', 'startYear', 'endYear', 'runtimeMinutes',\n",
            "       'genres', 'averageRating', 'numVotes', 'ordering', 'title', 'region',\n",
            "       'language', 'types', 'attributes', 'isOriginalTitle', 'Description'],\n",
            "      dtype='object')\n"
          ]
        }
      ]
    },
    {
      "cell_type": "markdown",
      "source": [
        "\n",
        "# ***Analisis y evolucion de la industria cinematografica a nivel mundial en las ultimas decadas***\n",
        "![Screenshot 2023-10-19 at 15.46.36.png](data:image/png;base64,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)\n"
      ],
      "metadata": {
        "id": "mcFWcMJ6nRQp"
      }
    },
    {
      "cell_type": "markdown",
      "source": [
        "# Analisis de valores nulos:"
      ],
      "metadata": {
        "id": "fmAgIxytVb-4"
      }
    },
    {
      "cell_type": "code",
      "source": [
        "DF_IMDB.dtypes"
      ],
      "metadata": {
        "colab": {
          "base_uri": "https://localhost:8080/"
        },
        "id": "JT8o_uPNXQP4",
        "outputId": "f06ae13a-ac03-4fae-cc37-204365794b99"
      },
      "execution_count": 6,
      "outputs": [
        {
          "output_type": "execute_result",
          "data": {
            "text/plain": [
              "Unnamed: 0           int64\n",
              "index                int64\n",
              "tconst              object\n",
              "titleType           object\n",
              "primaryTitle        object\n",
              "originalTitle       object\n",
              "isAdult              int64\n",
              "startYear            int64\n",
              "endYear             object\n",
              "runtimeMinutes      object\n",
              "genres              object\n",
              "averageRating      float64\n",
              "numVotes             int64\n",
              "ordering             int64\n",
              "title               object\n",
              "region              object\n",
              "language            object\n",
              "types               object\n",
              "attributes          object\n",
              "isOriginalTitle      int64\n",
              "Description         object\n",
              "dtype: object"
            ]
          },
          "metadata": {},
          "execution_count": 6
        }
      ]
    },
    {
      "cell_type": "code",
      "source": [
        "DF_IMDB.isna().sum()"
      ],
      "metadata": {
        "colab": {
          "base_uri": "https://localhost:8080/"
        },
        "id": "Ilqo4ddFVSMz",
        "outputId": "a9249056-e3be-42cb-ffc1-5f14b80dff4d"
      },
      "execution_count": 7,
      "outputs": [
        {
          "output_type": "execute_result",
          "data": {
            "text/plain": [
              "Unnamed: 0           0\n",
              "index                0\n",
              "tconst               0\n",
              "titleType            0\n",
              "primaryTitle         0\n",
              "originalTitle        0\n",
              "isAdult              0\n",
              "startYear            0\n",
              "endYear              0\n",
              "runtimeMinutes       0\n",
              "genres               0\n",
              "averageRating        0\n",
              "numVotes             0\n",
              "ordering             0\n",
              "title                0\n",
              "region               0\n",
              "language             0\n",
              "types                0\n",
              "attributes           0\n",
              "isOriginalTitle      0\n",
              "Description        188\n",
              "dtype: int64"
            ]
          },
          "metadata": {},
          "execution_count": 7
        }
      ]
    },
    {
      "cell_type": "markdown",
      "source": [
        "\n",
        "\n",
        "---\n",
        "\n"
      ],
      "metadata": {
        "id": "16x8uA07YCwg"
      }
    },
    {
      "cell_type": "markdown",
      "source": [
        "# Seleccion de caracteristicas:"
      ],
      "metadata": {
        "id": "yCzZTBKdX7aV"
      }
    },
    {
      "cell_type": "markdown",
      "source": [
        "Para validar nuestra hipótesis de que el género \"Drama\" ha evolucionado de manera más significativa que el género \"Acción\" a lo largo del tiempo en la industria cinematográfica, es esencial que nos centremos en las características que son relevantes para esta comparación. En este caso, las características pertinentes son los géneros cinematográficos a lo largo de los años.\n",
        "Dado que mi objetivo es comparar la evolución de dos géneros específicos, el \"Drama\" y la \"Acción,\" no es necesario realizar una selección de características en el sentido tradicional. En lugar de eso, debo asegurarte de que tu conjunto de datos esté correctamente estructurado para permitir esta comparación. Esto implica organizar mis datos de manera que pueda analizar directamente la evolución de la cantidad de películas de \"Drama\" y \"Acción\" a lo largo del tiempo.\n",
        "Para esto debo:\n",
        "* Preparar los Datos: Asegurarme que mi conjunto de datos contenga las columnas \"Año\" y \"Género\" y que estén formateadas de manera adecuada.\n",
        "* Análisis Descriptivo: Con un análisis descriptivo que muestre cómo ha evolucionado la cantidad de películas de \"Drama\" y \"Acción\" a lo largo de los años.\n",
        "* Pruebas Estadísticas: Necesito hacer pruebas estadísticas adecuadas para determinar si hay una diferencia significativa en la evolución de estos dos géneros. Voy a considerar pruebas de hipótesis, para comparar las tendencias a lo largo del tiempo.\n",
        "\n",
        "Como estoy trabajando con una característica (genero) no seria necesario realizar una seleccion de características tradicional en este contexto pero voy a considerar una aproximación que implique la selección de características más relevantes para la comparación entre los géneros \"Drama\" y \"Acción\"\n",
        "* Codificación de Variables Categóricas: Como mis datos están en formato categórico, \"Drama\" y \"Acción\", primero voy a codificar estas categorías en valores numéricos. Usando la codificación one-hot (binaria) para representar cada género como una variable binaria (1 para \"Drama\" y 0 para \"Acción”.\n",
        "* Selección de Características: Después de la codificación,  aplico técnicas de selección de características. Para mi caso, considero el uso de técnicas como la Prueba F (ANOVA) o el Chi-cuadrado para evaluar la importancia de cada género (característica) en relación con la variable objetivo (evolución a lo largo del tiempo).\n",
        "* Establecimiento de un Umbral: Defino un umbral para seleccionar las características más relevantes. Utilizo estadísticas de prueba o puntuaciones de importancia para establecer este umbral.\n",
        "* Análisis Comparativo: Una vez que reduje mis características a las más relevantes, realizo un análisis comparativo entre los géneros \"Drama\" y \"Acción\" en función de la evolución a lo largo del tiempo."
      ],
      "metadata": {
        "id": "QOiI_jcxYBrd"
      }
    },
    {
      "cell_type": "markdown",
      "source": [
        "# **Modelo**"
      ],
      "metadata": {
        "id": "CS_VO-Xexu13"
      }
    },
    {
      "cell_type": "markdown",
      "source": [
        "Empiezo a entrenar mi modelo"
      ],
      "metadata": {
        "id": "LgAgbSEecjHL"
      }
    },
    {
      "cell_type": "code",
      "source": [
        "#Creo mi nuevo DF con las columnas que necesito para mi modelo\n",
        "# 'index', 'titleType', 'startYear', 'genres', 'averageRating', 'region'\n",
        "\n",
        "DF_IMDB_M = DF_IMDB[['index', 'startYear', 'averageRating']]\n",
        "\n",
        "# Define una función que asigna 0 a 'Drama' y 1 a 'Acción'\n",
        "\n",
        "def asignar_valor(genres):\n",
        "    if 'Drama' in genres:\n",
        "        return 0\n",
        "    elif 'Action' in genres:\n",
        "        return 1\n",
        "    else:\n",
        "        return -1  # Otra categoría\n",
        "\n",
        "# Aplica la función y crea una nueva columna 'genero_codificado'\n",
        "DF_IMDB_M['genres_cod'] = DF_IMDB['genres'].apply(asignar_valor)\n",
        "\n",
        "print(DF_IMDB_M.head(20))\n",
        "\n"
      ],
      "metadata": {
        "colab": {
          "base_uri": "https://localhost:8080/"
        },
        "id": "fENaY1zWOaJy",
        "outputId": "2d987855-0c88-4493-b923-3be2ff8152fb"
      },
      "execution_count": 8,
      "outputs": [
        {
          "output_type": "stream",
          "name": "stdout",
          "text": [
            "    index  startYear  averageRating  genres_cod\n",
            "0       0       1991            8.6           0\n",
            "1       1       1991            8.6           1\n",
            "2       3       1994            8.5           0\n",
            "3       4       1994            8.9           0\n",
            "4       5       1994            9.3           0\n",
            "5       8       1997            7.9           0\n",
            "6       9       2005            7.3           0\n",
            "7      14       2000            8.5           0\n",
            "8      15       2001            7.2           0\n",
            "9      16       1998            8.0          -1\n",
            "10     17       2000            6.6           1\n",
            "11     20       2001            7.5           0\n",
            "12     21       2002            6.6           0\n",
            "13     23       2002            8.5           0\n",
            "14     24       2000            8.4          -1\n",
            "15     34       2000            7.7          -1\n",
            "16     37       2001            8.6          -1\n",
            "17     42       2004            8.0           1\n",
            "18     45       2009            7.7           0\n",
            "19     47       2003            7.2          -1\n"
          ]
        },
        {
          "output_type": "stream",
          "name": "stderr",
          "text": [
            "<ipython-input-8-a784840d2184>:17: SettingWithCopyWarning: \n",
            "A value is trying to be set on a copy of a slice from a DataFrame.\n",
            "Try using .loc[row_indexer,col_indexer] = value instead\n",
            "\n",
            "See the caveats in the documentation: https://pandas.pydata.org/pandas-docs/stable/user_guide/indexing.html#returning-a-view-versus-a-copy\n",
            "  DF_IMDB_M['genres_cod'] = DF_IMDB['genres'].apply(asignar_valor)\n"
          ]
        }
      ]
    },
    {
      "cell_type": "markdown",
      "source": [
        "# Ya tengo mis datos acomodados para poder empezar a entrenar mi modelo de Machine Learning\n"
      ],
      "metadata": {
        "id": "4pjkX8MWUrkw"
      }
    },
    {
      "cell_type": "markdown",
      "source": [
        "Divido mis datos en un conjunto de entrenamiento y un conjunto de prueba.\n",
        "El conjunto de entrenamiento se utiliza para entrenar el modelo, mientras que el conjunto de prueba se utiliza para evaluar su rendimiento."
      ],
      "metadata": {
        "id": "tW8T0A2hU5OS"
      }
    },
    {
      "cell_type": "code",
      "source": [
        "from sklearn.model_selection import train_test_split\n",
        "\n",
        "X = DF_IMDB_M.drop(columns=['genres_cod'])  # Elimina la variable objetivo\n",
        "y = DF_IMDB_M['genres_cod']  # Variable objetivo\n",
        "\n",
        "X_train, X_test, y_train, y_test = train_test_split(X, y, test_size=0.2, random_state=42)\n"
      ],
      "metadata": {
        "id": "4jyecpjaUzgO"
      },
      "execution_count": 9,
      "outputs": []
    },
    {
      "cell_type": "markdown",
      "source": [
        "Entreno el modelo"
      ],
      "metadata": {
        "id": "fnQ43kyXWMJI"
      }
    },
    {
      "cell_type": "code",
      "source": [
        "from sklearn.linear_model import LogisticRegression\n",
        "\n",
        "model = LogisticRegression()\n",
        "model.fit(X_train, y_train)\n"
      ],
      "metadata": {
        "id": "GBs3XllOIzED",
        "colab": {
          "base_uri": "https://localhost:8080/",
          "height": 75
        },
        "outputId": "f2a25344-7829-451a-a84c-983635097dca"
      },
      "execution_count": 10,
      "outputs": [
        {
          "output_type": "execute_result",
          "data": {
            "text/plain": [
              "LogisticRegression()"
            ],
            "text/html": [
              "<style>#sk-container-id-1 {color: black;background-color: white;}#sk-container-id-1 pre{padding: 0;}#sk-container-id-1 div.sk-toggleable {background-color: white;}#sk-container-id-1 label.sk-toggleable__label {cursor: pointer;display: block;width: 100%;margin-bottom: 0;padding: 0.3em;box-sizing: border-box;text-align: center;}#sk-container-id-1 label.sk-toggleable__label-arrow:before {content: \"▸\";float: left;margin-right: 0.25em;color: #696969;}#sk-container-id-1 label.sk-toggleable__label-arrow:hover:before {color: black;}#sk-container-id-1 div.sk-estimator:hover label.sk-toggleable__label-arrow:before {color: black;}#sk-container-id-1 div.sk-toggleable__content {max-height: 0;max-width: 0;overflow: hidden;text-align: left;background-color: #f0f8ff;}#sk-container-id-1 div.sk-toggleable__content pre {margin: 0.2em;color: black;border-radius: 0.25em;background-color: #f0f8ff;}#sk-container-id-1 input.sk-toggleable__control:checked~div.sk-toggleable__content {max-height: 200px;max-width: 100%;overflow: auto;}#sk-container-id-1 input.sk-toggleable__control:checked~label.sk-toggleable__label-arrow:before {content: \"▾\";}#sk-container-id-1 div.sk-estimator input.sk-toggleable__control:checked~label.sk-toggleable__label {background-color: #d4ebff;}#sk-container-id-1 div.sk-label input.sk-toggleable__control:checked~label.sk-toggleable__label {background-color: #d4ebff;}#sk-container-id-1 input.sk-hidden--visually {border: 0;clip: rect(1px 1px 1px 1px);clip: rect(1px, 1px, 1px, 1px);height: 1px;margin: -1px;overflow: hidden;padding: 0;position: absolute;width: 1px;}#sk-container-id-1 div.sk-estimator {font-family: monospace;background-color: #f0f8ff;border: 1px dotted black;border-radius: 0.25em;box-sizing: border-box;margin-bottom: 0.5em;}#sk-container-id-1 div.sk-estimator:hover {background-color: #d4ebff;}#sk-container-id-1 div.sk-parallel-item::after {content: \"\";width: 100%;border-bottom: 1px solid gray;flex-grow: 1;}#sk-container-id-1 div.sk-label:hover label.sk-toggleable__label {background-color: #d4ebff;}#sk-container-id-1 div.sk-serial::before {content: \"\";position: absolute;border-left: 1px solid gray;box-sizing: border-box;top: 0;bottom: 0;left: 50%;z-index: 0;}#sk-container-id-1 div.sk-serial {display: flex;flex-direction: column;align-items: center;background-color: white;padding-right: 0.2em;padding-left: 0.2em;position: relative;}#sk-container-id-1 div.sk-item {position: relative;z-index: 1;}#sk-container-id-1 div.sk-parallel {display: flex;align-items: stretch;justify-content: center;background-color: white;position: relative;}#sk-container-id-1 div.sk-item::before, #sk-container-id-1 div.sk-parallel-item::before {content: \"\";position: absolute;border-left: 1px solid gray;box-sizing: border-box;top: 0;bottom: 0;left: 50%;z-index: -1;}#sk-container-id-1 div.sk-parallel-item {display: flex;flex-direction: column;z-index: 1;position: relative;background-color: white;}#sk-container-id-1 div.sk-parallel-item:first-child::after {align-self: flex-end;width: 50%;}#sk-container-id-1 div.sk-parallel-item:last-child::after {align-self: flex-start;width: 50%;}#sk-container-id-1 div.sk-parallel-item:only-child::after {width: 0;}#sk-container-id-1 div.sk-dashed-wrapped {border: 1px dashed gray;margin: 0 0.4em 0.5em 0.4em;box-sizing: border-box;padding-bottom: 0.4em;background-color: white;}#sk-container-id-1 div.sk-label label {font-family: monospace;font-weight: bold;display: inline-block;line-height: 1.2em;}#sk-container-id-1 div.sk-label-container {text-align: center;}#sk-container-id-1 div.sk-container {/* jupyter's `normalize.less` sets `[hidden] { display: none; }` but bootstrap.min.css set `[hidden] { display: none !important; }` so we also need the `!important` here to be able to override the default hidden behavior on the sphinx rendered scikit-learn.org. See: https://github.com/scikit-learn/scikit-learn/issues/21755 */display: inline-block !important;position: relative;}#sk-container-id-1 div.sk-text-repr-fallback {display: none;}</style><div id=\"sk-container-id-1\" class=\"sk-top-container\"><div class=\"sk-text-repr-fallback\"><pre>LogisticRegression()</pre><b>In a Jupyter environment, please rerun this cell to show the HTML representation or trust the notebook. <br />On GitHub, the HTML representation is unable to render, please try loading this page with nbviewer.org.</b></div><div class=\"sk-container\" hidden><div class=\"sk-item\"><div class=\"sk-estimator sk-toggleable\"><input class=\"sk-toggleable__control sk-hidden--visually\" id=\"sk-estimator-id-1\" type=\"checkbox\" checked><label for=\"sk-estimator-id-1\" class=\"sk-toggleable__label sk-toggleable__label-arrow\">LogisticRegression</label><div class=\"sk-toggleable__content\"><pre>LogisticRegression()</pre></div></div></div></div></div>"
            ]
          },
          "metadata": {},
          "execution_count": 10
        }
      ]
    },
    {
      "cell_type": "markdown",
      "source": [
        "Evaluo el modelo"
      ],
      "metadata": {
        "id": "Dw20IoenXI0I"
      }
    },
    {
      "cell_type": "code",
      "source": [
        "y_pred = model.predict(X_test)\n",
        "\n",
        "# Calculo las métricas de rendimiento\n",
        "from sklearn.metrics import accuracy_score, classification_report\n",
        "\n",
        "accuracy = accuracy_score(y_test, y_pred)\n",
        "\n",
        "report = classification_report(y_test, y_pred, zero_division=0)\n",
        "\n",
        "print(f'Precisión: {accuracy}')\n",
        "print(report)\n"
      ],
      "metadata": {
        "colab": {
          "base_uri": "https://localhost:8080/"
        },
        "id": "KlNDmxeWXKtZ",
        "outputId": "626a8c9e-445a-44c9-f9cc-65962e452c9c"
      },
      "execution_count": 11,
      "outputs": [
        {
          "output_type": "stream",
          "name": "stdout",
          "text": [
            "Precisión: 0.6598726114649681\n",
            "              precision    recall  f1-score   support\n",
            "\n",
            "          -1       0.00      0.00      0.00       340\n",
            "           0       0.66      1.00      0.80      1036\n",
            "           1       0.00      0.00      0.00       194\n",
            "\n",
            "    accuracy                           0.66      1570\n",
            "   macro avg       0.22      0.33      0.27      1570\n",
            "weighted avg       0.44      0.66      0.52      1570\n",
            "\n"
          ]
        }
      ]
    },
    {
      "cell_type": "markdown",
      "source": [
        "Intentaremos graficar nuestro modelo"
      ],
      "metadata": {
        "id": "rnc2azCla3Xe"
      }
    },
    {
      "cell_type": "code",
      "source": [
        "import matplotlib.pyplot as plt\n",
        "import seaborn as sns\n",
        "from sklearn.metrics import confusion_matrix\n",
        "from sklearn.metrics import accuracy_score\n",
        "from sklearn.metrics import classification_report\n",
        "\n",
        "\n",
        "# Calculo la matriz de confusión\n",
        "cm = confusion_matrix(y_test, y_pred)\n",
        "\n",
        "# Creo un gráfico de matriz de confusión\n",
        "plt.figure(figsize=(6, 4))\n",
        "sns.heatmap(cm, annot=True, fmt=\"d\", cmap=\"Blues\")\n",
        "plt.xlabel(\"Predicciones\")\n",
        "plt.ylabel(\"Valores Verdaderos\")\n",
        "plt.title(\"Matriz de Confusión\")\n",
        "\n",
        "# Muestro el gráfico\n",
        "plt.show()\n",
        "\n",
        "# Muestro la precisión y otros informes\n",
        "accuracy = accuracy_score(y_test, y_pred)\n",
        "report = classification_report(y_test, y_pred, zero_division=0)\n",
        "\n",
        "print(f'Precisión: {accuracy}')\n",
        "print(report)\n"
      ],
      "metadata": {
        "colab": {
          "base_uri": "https://localhost:8080/",
          "height": 606
        },
        "id": "BbDl2rAYa50h",
        "outputId": "6b74a114-f59a-4f9d-909d-70572ed19a7c"
      },
      "execution_count": 12,
      "outputs": [
        {
          "output_type": "display_data",
          "data": {
            "text/plain": [
              "<Figure size 600x400 with 2 Axes>"
            ],
            "image/png": "[encoded data removed]"
          },
          "metadata": {}
        },
        {
          "output_type": "stream",
          "name": "stdout",
          "text": [
            "Precisión: 0.6598726114649681\n",
            "              precision    recall  f1-score   support\n",
            "\n",
            "          -1       0.00      0.00      0.00       340\n",
            "           0       0.66      1.00      0.80      1036\n",
            "           1       0.00      0.00      0.00       194\n",
            "\n",
            "    accuracy                           0.66      1570\n",
            "   macro avg       0.22      0.33      0.27      1570\n",
            "weighted avg       0.44      0.66      0.52      1570\n",
            "\n"
          ]
        }
      ]
    },
    {
      "cell_type": "markdown",
      "source": [
        "\n",
        "\n",
        "---\n",
        "\n"
      ],
      "metadata": {
        "id": "U7-Tr1_e87eA"
      }
    },
    {
      "cell_type": "markdown",
      "source": [
        "# *Vamos a intentar predecir la cantidad de peliculas de Drama que seran lanzadas en el proximo anio, para lo que usaremos un modelo de regresion*"
      ],
      "metadata": {
        "id": "71iPwQiVAIDg"
      }
    },
    {
      "cell_type": "markdown",
      "source": [
        "\n",
        "* \t\tPreparación de datos:\n",
        "    * Tengo un conjunto de datos históricos que incluye la cantidad de películas lanzadas en cada año. Esto podría incluir géneros, presupuesto, directores, actores, etc.\n",
        "* \t\tIngeniería de características:\n",
        "    * Puedo crear características adicionales a partir de los datos existentes, como la tendencia histórica en el número de películas lanzadas o características relacionadas con los géneros de las películas.\n",
        "* \t\tDivisión de datos:\n",
        "    * Divido mis datos en un conjunto de entrenamiento y un conjunto de prueba. Dado que estoy interesada en predecir el próximo año, puedo utilizar los datos históricos hasta un cierto año como conjunto de entrenamiento y los datos del año siguiente como conjunto de prueba.\n",
        "* \t\tSelección de modelo de regresión:\n",
        "    * Elijo el modelo de regresión temporal.\n",
        "* \t\tEntrenamiento del modelo:\n",
        "    * Entreno el modelo utilizando los datos de entrenamiento y las características seleccionadas.\n",
        "* \t\tPredicción del próximo año:\n",
        "    * Utilizo el modelo entrenado para hacer predicciones sobre la cantidad de películas que se lanzarán en el próximo año. Me aseguro de que las características de entrada para la predicción estén disponibles para ese año.\n",
        "* \t\tEvaluación del modelo:\n",
        "    * Evaluo el rendimiento del modelo utilizando métricas de regresión, como el error cuadrático medio (MSE) o el coeficiente de determinación (R^2), en los datos de prueba.\n",
        "* \t\tAjuste del modelo:\n",
        "    * Si es necesario, ajusto el modelo y las características para mejorar la precisión de las predicciones.\n",
        "* \t\tPredicción futura:\n",
        "    * Una vez que tengo un modelo entrenado y evaluado, puedo usarlo para realizar predicciones de la cantidad de películas para años futuros.\n"
      ],
      "metadata": {
        "id": "yz1yjuJaAvY2"
      }
    },
    {
      "cell_type": "code",
      "source": [
        "import pandas as pd\n",
        "from sklearn.model_selection import train_test_split\n",
        "from sklearn.linear_model import LinearRegression\n",
        "from sklearn.preprocessing import StandardScaler\n",
        "from sklearn.pipeline import Pipeline\n",
        "from sklearn.metrics import mean_squared_error, r2_score\n",
        "from datetime import datetime\n",
        "\n",
        "# Filtra las películas de género \"Drama\"\n",
        "drama_movies = DF_IMDB[DF_IMDB['genres'] == 'Drama']\n",
        "\n",
        "# Agrupa las películas por año y cuenta la cantidad de películas lanzadas en cada año\n",
        "yearly_drama_counts = drama_movies.groupby('startYear').size().reset_index(name='Movie_Count')\n",
        "\n",
        "# Establece el año para el cual deseas hacer la predicción (por ejemplo, el próximo año)\n",
        "next_year = datetime.now().year + 1\n",
        "\n",
        "# Prepara los datos de entrenamiento y prueba\n",
        "X = yearly_drama_counts[['startYear']]\n",
        "y = yearly_drama_counts['Movie_Count']\n",
        "\n",
        "# Divide los datos en conjuntos de entrenamiento y prueba\n",
        "X_train, X_test, y_train, y_test = train_test_split(X, y, test_size=0.2, random_state=42)\n",
        "\n",
        "# Crea el modelo de regresión\n",
        "model = LinearRegression()\n",
        "\n",
        "# Crea un pipeline que incluye la transformación y el modelo\n",
        "regression_pipeline = Pipeline(steps=[('scaler', StandardScaler()), ('model', model)])\n",
        "\n",
        "# Ajusta el modelo a los datos de entrenamiento\n",
        "regression_pipeline.fit(X_train, y_train)\n",
        "\n",
        "# Realiza la predicción para el próximo año\n",
        "next_year_prediction = regression_pipeline.predict([[next_year]])\n",
        "\n",
        "\n",
        "print(f'Predicción para el próximo año ({next_year}): {int(next_year_prediction[0])} películas de género \"Drama\"')\n",
        "\n"
      ],
      "metadata": {
        "colab": {
          "base_uri": "https://localhost:8080/"
        },
        "id": "wYB35dbUGj2f",
        "outputId": "37542a88-16c8-4c0c-9888-d8e57621ce36"
      },
      "execution_count": 13,
      "outputs": [
        {
          "output_type": "stream",
          "name": "stdout",
          "text": [
            "Predicción para el próximo año (2025): 37 películas de género \"Drama\"\n"
          ]
        },
        {
          "output_type": "stream",
          "name": "stderr",
          "text": [
            "/usr/local/lib/python3.10/dist-packages/sklearn/base.py:439: UserWarning: X does not have valid feature names, but StandardScaler was fitted with feature names\n",
            "  warnings.warn(\n"
          ]
        }
      ]
    },
    {
      "cell_type": "markdown",
      "source": [
        "## *Validacion Cruzada de mi modelo*"
      ],
      "metadata": {
        "id": "XRVPdlSIZNUX"
      }
    },
    {
      "cell_type": "code",
      "source": [
        "from sklearn.model_selection import cross_val_score\n",
        "from sklearn.model_selection import StratifiedKFold  # Para clasificación\n",
        "\n",
        "# Ya tengo mis datos X y y preparados\n",
        "\n",
        "# Creo un modelo (regresión logística)\n",
        "from sklearn.linear_model import LogisticRegression\n",
        "model = LogisticRegression()\n",
        "\n",
        "# Especifico el número de \"folds\" para la validación cruzada\n",
        "k = 5  # Por ejemplo, 5-fold cross-validation\n",
        "\n",
        "# Creo un objeto StratifiedKFold para la validación cruzada estratificada\n",
        "cv = StratifiedKFold(n_splits=k)\n",
        "\n",
        "# Realizo la validación cruzada para una lista de puntuaciones\n",
        "scores = cross_val_score(model, X, y, cv=cv, scoring='accuracy')\n",
        "\n",
        "# Imprimo las puntuaciones de cada fold\n",
        "for fold, score in enumerate(scores, start=1):\n",
        "    print(f'Fold {fold} - Puntuación de precisión: {score}')\n",
        "\n",
        "# Calculo y muestro la puntuación media de la validación cruzada\n",
        "mean_score = scores.mean()\n",
        "print(f'Puntuación media: {mean_score}')\n"
      ],
      "metadata": {
        "colab": {
          "base_uri": "https://localhost:8080/"
        },
        "id": "vz2XRwjxWXfj",
        "outputId": "c255e303-ec35-49a6-eee2-d913ec94bd9a"
      },
      "execution_count": 14,
      "outputs": [
        {
          "output_type": "stream",
          "name": "stdout",
          "text": [
            "Fold 1 - Puntuación de precisión: 0.14285714285714285\n",
            "Fold 2 - Puntuación de precisión: 0.14285714285714285\n",
            "Fold 3 - Puntuación de precisión: 0.14285714285714285\n",
            "Fold 4 - Puntuación de precisión: 0.16666666666666666\n",
            "Fold 5 - Puntuación de precisión: 0.16666666666666666\n",
            "Puntuación media: 0.15238095238095237\n"
          ]
        },
        {
          "output_type": "stream",
          "name": "stderr",
          "text": [
            "/usr/local/lib/python3.10/dist-packages/sklearn/model_selection/_split.py:700: UserWarning: The least populated class in y has only 1 members, which is less than n_splits=5.\n",
            "  warnings.warn(\n"
          ]
        }
      ]
    }
  ]
}