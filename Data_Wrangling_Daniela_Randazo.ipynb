{
  "nbformat": 4,
  "nbformat_minor": 0,
  "metadata": {
    "colab": {
      "provenance": [],
      "include_colab_link": true
    },
    "kernelspec": {
      "name": "python3",
      "display_name": "Python 3"
    },
    "language_info": {
      "name": "python"
    }
  },
  "cells": [
    {
      "cell_type": "markdown",
      "metadata": {
        "id": "view-in-github",
        "colab_type": "text"
      },
      "source": [
        "<a href=\"https://colab.research.google.com/github/DanielaRandazo/coderhouse/blob/main/Data_Wrangling_Daniela_Randazo.ipynb\" target=\"_parent\"><img src=\"https://colab.research.google.com/assets/colab-badge.svg\" alt=\"Open In Colab\"/></a>"
      ]
    },
    {
      "cell_type": "markdown",
      "source": [
        "# IMDB\n",
        "# DATA WRANGLING\n"
      ],
      "metadata": {
        "id": "5ia9SjqHZEi6"
      }
    },
    {
      "cell_type": "code",
      "source": [
        "from google.colab import drive\n",
        "drive.mount('/CoderHouse')"
      ],
      "metadata": {
        "colab": {
          "base_uri": "https://localhost:8080/"
        },
        "id": "667J6zYFRqvf",
        "outputId": "f61018b4-7151-47e6-c04e-22b8d4e2e12f"
      },
      "execution_count": 22,
      "outputs": [
        {
          "output_type": "stream",
          "name": "stdout",
          "text": [
            "Drive already mounted at /CoderHouse; to attempt to forcibly remount, call drive.mount(\"/CoderHouse\", force_remount=True).\n"
          ]
        }
      ]
    },
    {
      "cell_type": "markdown",
      "source": [
        "# Importo Librerias"
      ],
      "metadata": {
        "id": "rbijyLaYUJYP"
      }
    },
    {
      "cell_type": "code",
      "execution_count": 23,
      "metadata": {
        "id": "YDDqB5HZJcQ3"
      },
      "outputs": [],
      "source": [
        "import pandas as pd\n",
        "import seaborn as sns\n",
        "from sklearn.model_selection import train_test_split\n",
        "from sklearn.preprocessing import StandardScaler, OneHotEncoder\n",
        "from sklearn.compose import ColumnTransformer\n",
        "from sklearn.pipeline import Pipeline\n",
        "from sklearn.linear_model import LinearRegression\n",
        "from sklearn.metrics import mean_squared_error, r2_score\n",
        "\n",
        "import matplotlib.pyplot as plt\n",
        "DF_IMDB = pd.read_csv('/CoderHouse/MyDrive/CoderHouse/IMDB.csv')"
      ]
    },
    {
      "cell_type": "code",
      "source": [
        "print(DF_IMDB.columns)"
      ],
      "metadata": {
        "colab": {
          "base_uri": "https://localhost:8080/"
        },
        "id": "o9ejVnrFBrxf",
        "outputId": "374d5aed-fda2-4cfe-b7d2-38235b0731ed"
      },
      "execution_count": 24,
      "outputs": [
        {
          "output_type": "stream",
          "name": "stdout",
          "text": [
            "Index(['Unnamed: 0', 'index', 'tconst', 'titleType', 'primaryTitle',\n",
            "       'originalTitle', 'isAdult', 'startYear', 'endYear', 'runtimeMinutes',\n",
            "       'genres', 'averageRating', 'numVotes', 'ordering', 'title', 'region',\n",
            "       'language', 'types', 'attributes', 'isOriginalTitle', 'Description'],\n",
            "      dtype='object')\n"
          ]
        }
      ]
    },
    {
      "cell_type": "markdown",
      "source": [
        "\n",
        "# ***Analisis y evolucion de la industria cinematografica a nivel mundial en las ultimas decadas***\n",
        "![Screenshot 2023-10-19 at 15.46.36.png](data:image/png;base64,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)\n"
      ],
      "metadata": {
        "id": "mcFWcMJ6nRQp"
      }
    },
    {
      "cell_type": "markdown",
      "source": [
        "# Analisis de valores nulos y NaN:"
      ],
      "metadata": {
        "id": "fmAgIxytVb-4"
      }
    },
    {
      "cell_type": "code",
      "source": [
        "#cantidad de valores nulos por columna\n",
        "\n",
        "DF_IMDB.isna().sum().sort_values(ascending=False)"
      ],
      "metadata": {
        "colab": {
          "base_uri": "https://localhost:8080/"
        },
        "id": "Ilqo4ddFVSMz",
        "outputId": "e980b419-7d30-4772-aeda-03b019b3f997"
      },
      "execution_count": 25,
      "outputs": [
        {
          "output_type": "execute_result",
          "data": {
            "text/plain": [
              "Description        188\n",
              "averageRating        0\n",
              "isOriginalTitle      0\n",
              "attributes           0\n",
              "types                0\n",
              "language             0\n",
              "region               0\n",
              "title                0\n",
              "ordering             0\n",
              "numVotes             0\n",
              "Unnamed: 0           0\n",
              "index                0\n",
              "runtimeMinutes       0\n",
              "endYear              0\n",
              "startYear            0\n",
              "isAdult              0\n",
              "originalTitle        0\n",
              "primaryTitle         0\n",
              "titleType            0\n",
              "tconst               0\n",
              "genres               0\n",
              "dtype: int64"
            ]
          },
          "metadata": {},
          "execution_count": 25
        }
      ]
    },
    {
      "cell_type": "code",
      "source": [
        "DF_IMDB.replace('\\\\N', pd.NA, inplace=True)\n",
        "DF_IMDB[\"endYear\"] = pd.to_numeric(DF_IMDB[\"endYear\"], errors=\"coerce\")\n",
        "\n",
        "# Imprimir la cantidad de NaN por columna\n",
        "cantidad_nan_por_columna = DF_IMDB.isna().sum()\n",
        "print(cantidad_nan_por_columna)\n"
      ],
      "metadata": {
        "colab": {
          "base_uri": "https://localhost:8080/",
          "height": 455
        },
        "id": "XaMDY8CJsEbN",
        "outputId": "fd983cdd-c212-4dc4-b929-6e8ea48d85e3"
      },
      "execution_count": 32,
      "outputs": [
        {
          "output_type": "stream",
          "name": "stderr",
          "text": [
            "/usr/local/lib/python3.10/dist-packages/pandas/core/missing.py:95: FutureWarning: elementwise comparison failed; returning scalar instead, but in the future will perform elementwise comparison\n",
            "  new_mask = arr == x\n"
          ]
        },
        {
          "output_type": "error",
          "ename": "AttributeError",
          "evalue": "ignored",
          "traceback": [
            "\u001b[0;31m---------------------------------------------------------------------------\u001b[0m",
            "\u001b[0;31mAttributeError\u001b[0m                            Traceback (most recent call last)",
            "\u001b[0;32m<ipython-input-32-ffbe2d5f88b9>\u001b[0m in \u001b[0;36m<cell line: 1>\u001b[0;34m()\u001b[0m\n\u001b[0;32m----> 1\u001b[0;31m \u001b[0mDF_IMDB\u001b[0m\u001b[0;34m.\u001b[0m\u001b[0mreplace\u001b[0m\u001b[0;34m(\u001b[0m\u001b[0;34m'\\\\N'\u001b[0m\u001b[0;34m,\u001b[0m \u001b[0mpd\u001b[0m\u001b[0;34m.\u001b[0m\u001b[0mNA\u001b[0m\u001b[0;34m,\u001b[0m \u001b[0minplace\u001b[0m\u001b[0;34m=\u001b[0m\u001b[0;32mTrue\u001b[0m\u001b[0;34m)\u001b[0m\u001b[0;34m\u001b[0m\u001b[0;34m\u001b[0m\u001b[0m\n\u001b[0m\u001b[1;32m      2\u001b[0m \u001b[0mDF_IMDB\u001b[0m\u001b[0;34m[\u001b[0m\u001b[0;34m\"endYear\"\u001b[0m\u001b[0;34m]\u001b[0m \u001b[0;34m=\u001b[0m \u001b[0mpd\u001b[0m\u001b[0;34m.\u001b[0m\u001b[0mto_numeric\u001b[0m\u001b[0;34m(\u001b[0m\u001b[0mDF_IMDB\u001b[0m\u001b[0;34m[\u001b[0m\u001b[0;34m\"endYear\"\u001b[0m\u001b[0;34m]\u001b[0m\u001b[0;34m,\u001b[0m \u001b[0merrors\u001b[0m\u001b[0;34m=\u001b[0m\u001b[0;34m\"coerce\"\u001b[0m\u001b[0;34m)\u001b[0m\u001b[0;34m\u001b[0m\u001b[0;34m\u001b[0m\u001b[0m\n\u001b[1;32m      3\u001b[0m \u001b[0;34m\u001b[0m\u001b[0m\n\u001b[1;32m      4\u001b[0m \u001b[0;31m# Imprimir la cantidad de NaN por columna\u001b[0m\u001b[0;34m\u001b[0m\u001b[0;34m\u001b[0m\u001b[0m\n\u001b[1;32m      5\u001b[0m \u001b[0mcantidad_nan_por_columna\u001b[0m \u001b[0;34m=\u001b[0m \u001b[0mDF_IMDB\u001b[0m\u001b[0;34m.\u001b[0m\u001b[0misna\u001b[0m\u001b[0;34m(\u001b[0m\u001b[0;34m)\u001b[0m\u001b[0;34m.\u001b[0m\u001b[0msum\u001b[0m\u001b[0;34m(\u001b[0m\u001b[0;34m)\u001b[0m\u001b[0;34m\u001b[0m\u001b[0;34m\u001b[0m\u001b[0m\n",
            "\u001b[0;32m/usr/local/lib/python3.10/dist-packages/pandas/util/_decorators.py\u001b[0m in \u001b[0;36mwrapper\u001b[0;34m(*args, **kwargs)\u001b[0m\n\u001b[1;32m    329\u001b[0m                     \u001b[0mstacklevel\u001b[0m\u001b[0;34m=\u001b[0m\u001b[0mfind_stack_level\u001b[0m\u001b[0;34m(\u001b[0m\u001b[0;34m)\u001b[0m\u001b[0;34m,\u001b[0m\u001b[0;34m\u001b[0m\u001b[0;34m\u001b[0m\u001b[0m\n\u001b[1;32m    330\u001b[0m                 )\n\u001b[0;32m--> 331\u001b[0;31m             \u001b[0;32mreturn\u001b[0m \u001b[0mfunc\u001b[0m\u001b[0;34m(\u001b[0m\u001b[0;34m*\u001b[0m\u001b[0margs\u001b[0m\u001b[0;34m,\u001b[0m \u001b[0;34m**\u001b[0m\u001b[0mkwargs\u001b[0m\u001b[0;34m)\u001b[0m\u001b[0;34m\u001b[0m\u001b[0;34m\u001b[0m\u001b[0m\n\u001b[0m\u001b[1;32m    332\u001b[0m \u001b[0;34m\u001b[0m\u001b[0m\n\u001b[1;32m    333\u001b[0m         \u001b[0;31m# error: \"Callable[[VarArg(Any), KwArg(Any)], Any]\" has no\u001b[0m\u001b[0;34m\u001b[0m\u001b[0;34m\u001b[0m\u001b[0m\n",
            "\u001b[0;32m/usr/local/lib/python3.10/dist-packages/pandas/core/frame.py\u001b[0m in \u001b[0;36mreplace\u001b[0;34m(self, to_replace, value, inplace, limit, regex, method)\u001b[0m\n\u001b[1;32m   5726\u001b[0m         \u001b[0mmethod\u001b[0m\u001b[0;34m:\u001b[0m \u001b[0mLiteral\u001b[0m\u001b[0;34m[\u001b[0m\u001b[0;34m\"pad\"\u001b[0m\u001b[0;34m,\u001b[0m \u001b[0;34m\"ffill\"\u001b[0m\u001b[0;34m,\u001b[0m \u001b[0;34m\"bfill\"\u001b[0m\u001b[0;34m]\u001b[0m \u001b[0;34m|\u001b[0m \u001b[0mlib\u001b[0m\u001b[0;34m.\u001b[0m\u001b[0mNoDefault\u001b[0m \u001b[0;34m=\u001b[0m \u001b[0mlib\u001b[0m\u001b[0;34m.\u001b[0m\u001b[0mno_default\u001b[0m\u001b[0;34m,\u001b[0m\u001b[0;34m\u001b[0m\u001b[0;34m\u001b[0m\u001b[0m\n\u001b[1;32m   5727\u001b[0m     ) -> DataFrame | None:\n\u001b[0;32m-> 5728\u001b[0;31m         return super().replace(\n\u001b[0m\u001b[1;32m   5729\u001b[0m             \u001b[0mto_replace\u001b[0m\u001b[0;34m=\u001b[0m\u001b[0mto_replace\u001b[0m\u001b[0;34m,\u001b[0m\u001b[0;34m\u001b[0m\u001b[0;34m\u001b[0m\u001b[0m\n\u001b[1;32m   5730\u001b[0m             \u001b[0mvalue\u001b[0m\u001b[0;34m=\u001b[0m\u001b[0mvalue\u001b[0m\u001b[0;34m,\u001b[0m\u001b[0;34m\u001b[0m\u001b[0;34m\u001b[0m\u001b[0m\n",
            "\u001b[0;32m/usr/local/lib/python3.10/dist-packages/pandas/util/_decorators.py\u001b[0m in \u001b[0;36mwrapper\u001b[0;34m(*args, **kwargs)\u001b[0m\n\u001b[1;32m    329\u001b[0m                     \u001b[0mstacklevel\u001b[0m\u001b[0;34m=\u001b[0m\u001b[0mfind_stack_level\u001b[0m\u001b[0;34m(\u001b[0m\u001b[0;34m)\u001b[0m\u001b[0;34m,\u001b[0m\u001b[0;34m\u001b[0m\u001b[0;34m\u001b[0m\u001b[0m\n\u001b[1;32m    330\u001b[0m                 )\n\u001b[0;32m--> 331\u001b[0;31m             \u001b[0;32mreturn\u001b[0m \u001b[0mfunc\u001b[0m\u001b[0;34m(\u001b[0m\u001b[0;34m*\u001b[0m\u001b[0margs\u001b[0m\u001b[0;34m,\u001b[0m \u001b[0;34m**\u001b[0m\u001b[0mkwargs\u001b[0m\u001b[0;34m)\u001b[0m\u001b[0;34m\u001b[0m\u001b[0;34m\u001b[0m\u001b[0m\n\u001b[0m\u001b[1;32m    332\u001b[0m \u001b[0;34m\u001b[0m\u001b[0m\n\u001b[1;32m    333\u001b[0m         \u001b[0;31m# error: \"Callable[[VarArg(Any), KwArg(Any)], Any]\" has no\u001b[0m\u001b[0;34m\u001b[0m\u001b[0;34m\u001b[0m\u001b[0m\n",
            "\u001b[0;32m/usr/local/lib/python3.10/dist-packages/pandas/core/generic.py\u001b[0m in \u001b[0;36mreplace\u001b[0;34m(self, to_replace, value, inplace, limit, regex, method)\u001b[0m\n\u001b[1;32m   7278\u001b[0m                         )\n\u001b[1;32m   7279\u001b[0m                     \u001b[0;32melse\u001b[0m\u001b[0;34m:\u001b[0m\u001b[0;34m\u001b[0m\u001b[0;34m\u001b[0m\u001b[0m\n\u001b[0;32m-> 7280\u001b[0;31m                         new_data = self._mgr.replace(\n\u001b[0m\u001b[1;32m   7281\u001b[0m                             \u001b[0mto_replace\u001b[0m\u001b[0;34m=\u001b[0m\u001b[0mto_replace\u001b[0m\u001b[0;34m,\u001b[0m \u001b[0mvalue\u001b[0m\u001b[0;34m=\u001b[0m\u001b[0mvalue\u001b[0m\u001b[0;34m,\u001b[0m \u001b[0minplace\u001b[0m\u001b[0;34m=\u001b[0m\u001b[0minplace\u001b[0m\u001b[0;34m\u001b[0m\u001b[0;34m\u001b[0m\u001b[0m\n\u001b[1;32m   7282\u001b[0m                         )\n",
            "\u001b[0;32m/usr/local/lib/python3.10/dist-packages/pandas/core/internals/managers.py\u001b[0m in \u001b[0;36mreplace\u001b[0;34m(self, to_replace, value, inplace)\u001b[0m\n\u001b[1;32m    468\u001b[0m         \u001b[0;32massert\u001b[0m \u001b[0;32mnot\u001b[0m \u001b[0mis_list_like\u001b[0m\u001b[0;34m(\u001b[0m\u001b[0mto_replace\u001b[0m\u001b[0;34m)\u001b[0m\u001b[0;34m\u001b[0m\u001b[0;34m\u001b[0m\u001b[0m\n\u001b[1;32m    469\u001b[0m         \u001b[0;32massert\u001b[0m \u001b[0;32mnot\u001b[0m \u001b[0mis_list_like\u001b[0m\u001b[0;34m(\u001b[0m\u001b[0mvalue\u001b[0m\u001b[0;34m)\u001b[0m\u001b[0;34m\u001b[0m\u001b[0;34m\u001b[0m\u001b[0m\n\u001b[0;32m--> 470\u001b[0;31m         return self.apply(\n\u001b[0m\u001b[1;32m    471\u001b[0m             \u001b[0;34m\"replace\"\u001b[0m\u001b[0;34m,\u001b[0m \u001b[0mto_replace\u001b[0m\u001b[0;34m=\u001b[0m\u001b[0mto_replace\u001b[0m\u001b[0;34m,\u001b[0m \u001b[0mvalue\u001b[0m\u001b[0;34m=\u001b[0m\u001b[0mvalue\u001b[0m\u001b[0;34m,\u001b[0m \u001b[0minplace\u001b[0m\u001b[0;34m=\u001b[0m\u001b[0minplace\u001b[0m\u001b[0;34m\u001b[0m\u001b[0;34m\u001b[0m\u001b[0m\n\u001b[1;32m    472\u001b[0m         )\n",
            "\u001b[0;32m/usr/local/lib/python3.10/dist-packages/pandas/core/internals/managers.py\u001b[0m in \u001b[0;36mapply\u001b[0;34m(self, f, align_keys, ignore_failures, **kwargs)\u001b[0m\n\u001b[1;32m    350\u001b[0m                     \u001b[0mapplied\u001b[0m \u001b[0;34m=\u001b[0m \u001b[0mb\u001b[0m\u001b[0;34m.\u001b[0m\u001b[0mapply\u001b[0m\u001b[0;34m(\u001b[0m\u001b[0mf\u001b[0m\u001b[0;34m,\u001b[0m \u001b[0;34m**\u001b[0m\u001b[0mkwargs\u001b[0m\u001b[0;34m)\u001b[0m\u001b[0;34m\u001b[0m\u001b[0;34m\u001b[0m\u001b[0m\n\u001b[1;32m    351\u001b[0m                 \u001b[0;32melse\u001b[0m\u001b[0;34m:\u001b[0m\u001b[0;34m\u001b[0m\u001b[0;34m\u001b[0m\u001b[0m\n\u001b[0;32m--> 352\u001b[0;31m                     \u001b[0mapplied\u001b[0m \u001b[0;34m=\u001b[0m \u001b[0mgetattr\u001b[0m\u001b[0;34m(\u001b[0m\u001b[0mb\u001b[0m\u001b[0;34m,\u001b[0m \u001b[0mf\u001b[0m\u001b[0;34m)\u001b[0m\u001b[0;34m(\u001b[0m\u001b[0;34m**\u001b[0m\u001b[0mkwargs\u001b[0m\u001b[0;34m)\u001b[0m\u001b[0;34m\u001b[0m\u001b[0;34m\u001b[0m\u001b[0m\n\u001b[0m\u001b[1;32m    353\u001b[0m             \u001b[0;32mexcept\u001b[0m \u001b[0;34m(\u001b[0m\u001b[0mTypeError\u001b[0m\u001b[0;34m,\u001b[0m \u001b[0mNotImplementedError\u001b[0m\u001b[0;34m)\u001b[0m\u001b[0;34m:\u001b[0m\u001b[0;34m\u001b[0m\u001b[0;34m\u001b[0m\u001b[0m\n\u001b[1;32m    354\u001b[0m                 \u001b[0;32mif\u001b[0m \u001b[0;32mnot\u001b[0m \u001b[0mignore_failures\u001b[0m\u001b[0;34m:\u001b[0m\u001b[0;34m\u001b[0m\u001b[0;34m\u001b[0m\u001b[0m\n",
            "\u001b[0;32m/usr/local/lib/python3.10/dist-packages/pandas/core/internals/blocks.py\u001b[0m in \u001b[0;36mreplace\u001b[0;34m(self, to_replace, value, inplace, mask)\u001b[0m\n\u001b[1;32m    590\u001b[0m \u001b[0;34m\u001b[0m\u001b[0m\n\u001b[1;32m    591\u001b[0m         \u001b[0;32mif\u001b[0m \u001b[0mmask\u001b[0m \u001b[0;32mis\u001b[0m \u001b[0;32mNone\u001b[0m\u001b[0;34m:\u001b[0m\u001b[0;34m\u001b[0m\u001b[0;34m\u001b[0m\u001b[0m\n\u001b[0;32m--> 592\u001b[0;31m             \u001b[0mmask\u001b[0m \u001b[0;34m=\u001b[0m \u001b[0mmissing\u001b[0m\u001b[0;34m.\u001b[0m\u001b[0mmask_missing\u001b[0m\u001b[0;34m(\u001b[0m\u001b[0mvalues\u001b[0m\u001b[0;34m,\u001b[0m \u001b[0mto_replace\u001b[0m\u001b[0;34m)\u001b[0m\u001b[0;34m\u001b[0m\u001b[0;34m\u001b[0m\u001b[0m\n\u001b[0m\u001b[1;32m    593\u001b[0m         \u001b[0;32mif\u001b[0m \u001b[0;32mnot\u001b[0m \u001b[0mmask\u001b[0m\u001b[0;34m.\u001b[0m\u001b[0many\u001b[0m\u001b[0;34m(\u001b[0m\u001b[0;34m)\u001b[0m\u001b[0;34m:\u001b[0m\u001b[0;34m\u001b[0m\u001b[0;34m\u001b[0m\u001b[0m\n\u001b[1;32m    594\u001b[0m             \u001b[0;31m# Note: we get here with test_replace_extension_other incorrectly\u001b[0m\u001b[0;34m\u001b[0m\u001b[0;34m\u001b[0m\u001b[0m\n",
            "\u001b[0;32m/usr/local/lib/python3.10/dist-packages/pandas/core/missing.py\u001b[0m in \u001b[0;36mmask_missing\u001b[0;34m(arr, values_to_mask)\u001b[0m\n\u001b[1;32m     96\u001b[0m             \u001b[0;32mif\u001b[0m \u001b[0;32mnot\u001b[0m \u001b[0misinstance\u001b[0m\u001b[0;34m(\u001b[0m\u001b[0mnew_mask\u001b[0m\u001b[0;34m,\u001b[0m \u001b[0mnp\u001b[0m\u001b[0;34m.\u001b[0m\u001b[0mndarray\u001b[0m\u001b[0;34m)\u001b[0m\u001b[0;34m:\u001b[0m\u001b[0;34m\u001b[0m\u001b[0;34m\u001b[0m\u001b[0m\n\u001b[1;32m     97\u001b[0m                 \u001b[0;31m# usually BooleanArray\u001b[0m\u001b[0;34m\u001b[0m\u001b[0;34m\u001b[0m\u001b[0m\n\u001b[0;32m---> 98\u001b[0;31m                 \u001b[0mnew_mask\u001b[0m \u001b[0;34m=\u001b[0m \u001b[0mnew_mask\u001b[0m\u001b[0;34m.\u001b[0m\u001b[0mto_numpy\u001b[0m\u001b[0;34m(\u001b[0m\u001b[0mdtype\u001b[0m\u001b[0;34m=\u001b[0m\u001b[0mbool\u001b[0m\u001b[0;34m,\u001b[0m \u001b[0mna_value\u001b[0m\u001b[0;34m=\u001b[0m\u001b[0;32mFalse\u001b[0m\u001b[0;34m)\u001b[0m\u001b[0;34m\u001b[0m\u001b[0;34m\u001b[0m\u001b[0m\n\u001b[0m\u001b[1;32m     99\u001b[0m             \u001b[0mmask\u001b[0m \u001b[0;34m|=\u001b[0m \u001b[0mnew_mask\u001b[0m\u001b[0;34m\u001b[0m\u001b[0;34m\u001b[0m\u001b[0m\n\u001b[1;32m    100\u001b[0m \u001b[0;34m\u001b[0m\u001b[0m\n",
            "\u001b[0;31mAttributeError\u001b[0m: 'bool' object has no attribute 'to_numpy'"
          ]
        }
      ]
    },
    {
      "cell_type": "code",
      "source": [
        "DF_IMDB.dtypes"
      ],
      "metadata": {
        "colab": {
          "base_uri": "https://localhost:8080/"
        },
        "id": "JT8o_uPNXQP4",
        "outputId": "7a865cc2-f417-48d8-e8e7-c622d9ceb2c9"
      },
      "execution_count": 27,
      "outputs": [
        {
          "output_type": "execute_result",
          "data": {
            "text/plain": [
              "Unnamed: 0           int64\n",
              "index                int64\n",
              "tconst              object\n",
              "titleType           object\n",
              "primaryTitle        object\n",
              "originalTitle       object\n",
              "isAdult              int64\n",
              "startYear            int64\n",
              "endYear            float64\n",
              "runtimeMinutes      object\n",
              "genres              object\n",
              "averageRating      float64\n",
              "numVotes             int64\n",
              "ordering             int64\n",
              "title               object\n",
              "region              object\n",
              "language            object\n",
              "types               object\n",
              "attributes          object\n",
              "isOriginalTitle      int64\n",
              "Description         object\n",
              "dtype: object"
            ]
          },
          "metadata": {},
          "execution_count": 27
        }
      ]
    },
    {
      "cell_type": "code",
      "source": [
        "#quiero analizar los valores no numericos de mi columna endYear\n",
        "\n",
        "DF_IMDB[\"endYear\"] = pd.to_numeric(DF_IMDB[\"endYear\"], errors=\"coerce\")\n",
        "\n",
        "valores_no_numericos = DF_IMDB.loc[pd.to_numeric(DF_IMDB[\"endYear\"], errors=\"coerce\").isnull(), \"endYear\"]\n",
        "# Imprimir los valores no numéricos\n",
        "print(valores_no_numericos)\n"
      ],
      "metadata": {
        "colab": {
          "base_uri": "https://localhost:8080/"
        },
        "id": "02llsi_RqRPR",
        "outputId": "36792912-5f12-4ced-d1e1-0cbc866ca5d3"
      },
      "execution_count": 33,
      "outputs": [
        {
          "output_type": "stream",
          "name": "stdout",
          "text": [
            "Series([], Name: endYear, dtype: float64)\n"
          ]
        }
      ]
    },
    {
      "cell_type": "code",
      "source": [
        "#voy a rellenar los valores NaN de la columna endYear con el promedio de anios que tengo de esa columna\n",
        "\n",
        "DF_IMDB[\"endYear\"] = pd.to_numeric(DF_IMDB[\"endYear\"], errors=\"coerce\")\n",
        "\n",
        "# Calculo el promedio de los años excluyendo NaN\n",
        "promedio_anios = DF_IMDB[\"endYear\"].mean(skipna=True)\n",
        "\n",
        "# Reemplazo NaN con el promedio de los años en la columna \"endYear\"\n",
        "DF_IMDB[\"endYear\"].fillna(promedio_anios, inplace=True)\n",
        "\n",
        "# Imprimo el DataFrame actualizado\n",
        "print(DF_IMDB)\n"
      ],
      "metadata": {
        "colab": {
          "base_uri": "https://localhost:8080/"
        },
        "id": "TRDShK1zmbkp",
        "outputId": "8241c98d-7a1e-4da4-bebc-dd2c55e3c4fb"
      },
      "execution_count": 34,
      "outputs": [
        {
          "output_type": "stream",
          "name": "stdout",
          "text": [
            "      Unnamed: 0  index     tconst titleType  \\\n",
            "0              0      0  tt0102926     movie   \n",
            "1              1      1  tt0103064     movie   \n",
            "2              2      3  tt0110357     movie   \n",
            "3              3      4  tt0110912     movie   \n",
            "4              4      5  tt0111161     movie   \n",
            "...          ...    ...        ...       ...   \n",
            "7845        7845  10269  tt9789686     movie   \n",
            "7846        7846  10270  tt9814900  tvSeries   \n",
            "7847        7847  10271  tt9845110     movie   \n",
            "7848        7848  10272  tt9845398     movie   \n",
            "7849        7849  10274  tt9908860  tvSeries   \n",
            "\n",
            "                                primaryTitle  \\\n",
            "0                   The Silence of the Lambs   \n",
            "1                 Terminator 2: Judgment Day   \n",
            "2                              The Lion King   \n",
            "3                               Pulp Fiction   \n",
            "4                   The Shawshank Redemption   \n",
            "...                                      ...   \n",
            "7845                          The Blonde One   \n",
            "7846  Trailer Park Boys: The Animated Series   \n",
            "7847                               Two of Us   \n",
            "7848                      End of the Century   \n",
            "7849                              Blown Away   \n",
            "\n",
            "                               originalTitle  isAdult  startYear      endYear  \\\n",
            "0                   The Silence of the Lambs        0       1991  2015.847293   \n",
            "1                 Terminator 2: Judgment Day        0       1991  2015.847293   \n",
            "2                              The Lion King        0       1994  2015.847293   \n",
            "3                               Pulp Fiction        0       1994  2015.847293   \n",
            "4                   The Shawshank Redemption        0       1994  2015.847293   \n",
            "...                                      ...      ...        ...          ...   \n",
            "7845                                Un rubio        0       2019  2015.847293   \n",
            "7846  Trailer Park Boys: The Animated Series        0       2019  2020.000000   \n",
            "7847                                    Deux        0       2019  2015.847293   \n",
            "7848                            Fin de siglo        0       2019  2015.847293   \n",
            "7849                              Blown Away        0       2019  2015.847293   \n",
            "\n",
            "     runtimeMinutes  ... averageRating  numVotes  ordering  \\\n",
            "0               118  ...           8.6   1473918        50   \n",
            "1               137  ...           8.6   1128166        17   \n",
            "2                88  ...           8.5   1090882        18   \n",
            "3               154  ...           8.9   2118762        22   \n",
            "4               142  ...           9.3   2759621         2   \n",
            "...             ...  ...           ...       ...       ...   \n",
            "7845            108  ...           7.3      3779        11   \n",
            "7846             25  ...           7.5      3318         4   \n",
            "7847             99  ...           7.2      3346        29   \n",
            "7848             84  ...           6.9      3646         6   \n",
            "7849             23  ...           7.2      3577        27   \n",
            "\n",
            "                                       title region language        types  \\\n",
            "0                   The Silence of the Lambs     US       en         <NA>   \n",
            "1                 Terminator 2: Judgment Day     US       en          dvd   \n",
            "2                           The Lion King 3D     US       en         <NA>   \n",
            "3                               Pulp Fiction     US       en         <NA>   \n",
            "4                   The Shawshank Redemption     US       en         <NA>   \n",
            "...                                      ...    ...      ...          ...   \n",
            "7845                          The Blonde One     CA       en  imdbDisplay   \n",
            "7846  Trailer Park Boys: The Animated Series     CA       en  imdbDisplay   \n",
            "7847                               Two of Us     CA       en  imdbDisplay   \n",
            "7848                            Fin De Siglo     CA       en  imdbDisplay   \n",
            "7849                              Blown Away     CA       en  imdbDisplay   \n",
            "\n",
            "       attributes isOriginalTitle  \\\n",
            "0            <NA>               0   \n",
            "1            <NA>               0   \n",
            "2     3-D version               0   \n",
            "3            <NA>               0   \n",
            "4            <NA>               0   \n",
            "...           ...             ...   \n",
            "7845         <NA>               0   \n",
            "7846         <NA>               0   \n",
            "7847         <NA>               0   \n",
            "7848         <NA>               0   \n",
            "7849         <NA>               0   \n",
            "\n",
            "                                            Description  \n",
            "0     Jodie Foster stars as Clarice Starling, a top ...  \n",
            "1     In this sequel set eleven years after \"The Ter...  \n",
            "2     This Disney animated feature follows the adven...  \n",
            "3     Vincent Vega (John Travolta) and Jules Winnfie...  \n",
            "4     Andy Dufresne (Tim Robbins) is sentenced to tw...  \n",
            "...                                                 ...  \n",
            "7845  Two men begin a romantic relationship in Bueno...  \n",
            "7846  Nova Scotia's trailer parks are colorful thank...  \n",
            "7847  Two retired women, Nina and Madeleine, have be...  \n",
            "7848  A 30-something Argentine poet on vacation in B...  \n",
            "7849  A group of artisans from across North America ...  \n",
            "\n",
            "[7850 rows x 21 columns]\n"
          ]
        }
      ]
    },
    {
      "cell_type": "code",
      "source": [
        "#Evaluation of missing Data\n",
        "#\"True\" stands for missing value, while \"False\" stands for not missing value.\n",
        "\n",
        "missing_data = DF_IMDB.isnull()\n",
        "missing_data.head(5)"
      ],
      "metadata": {
        "colab": {
          "base_uri": "https://localhost:8080/",
          "height": 273
        },
        "id": "ULvBXBPCeJlI",
        "outputId": "fee95533-a9ed-4f49-d597-136629927da1"
      },
      "execution_count": 35,
      "outputs": [
        {
          "output_type": "execute_result",
          "data": {
            "text/plain": [
              "   Unnamed: 0  index  tconst  titleType  primaryTitle  originalTitle  isAdult  \\\n",
              "0       False  False   False      False         False          False    False   \n",
              "1       False  False   False      False         False          False    False   \n",
              "2       False  False   False      False         False          False    False   \n",
              "3       False  False   False      False         False          False    False   \n",
              "4       False  False   False      False         False          False    False   \n",
              "\n",
              "   startYear  endYear  runtimeMinutes  ...  averageRating  numVotes  ordering  \\\n",
              "0      False    False           False  ...          False     False     False   \n",
              "1      False    False           False  ...          False     False     False   \n",
              "2      False    False           False  ...          False     False     False   \n",
              "3      False    False           False  ...          False     False     False   \n",
              "4      False    False           False  ...          False     False     False   \n",
              "\n",
              "   title  region  language  types  attributes  isOriginalTitle  Description  \n",
              "0  False   False     False   True        True            False        False  \n",
              "1  False   False     False  False        True            False        False  \n",
              "2  False   False     False   True       False            False        False  \n",
              "3  False   False     False   True        True            False        False  \n",
              "4  False   False     False   True        True            False        False  \n",
              "\n",
              "[5 rows x 21 columns]"
            ],
            "text/html": [
              "\n",
              "  <div id=\"df-6c525559-fa3e-436d-9a9a-2e4b4bf38d33\" class=\"colab-df-container\">\n",
              "    <div>\n",
              "<style scoped>\n",
              "    .dataframe tbody tr th:only-of-type {\n",
              "        vertical-align: middle;\n",
              "    }\n",
              "\n",
              "    .dataframe tbody tr th {\n",
              "        vertical-align: top;\n",
              "    }\n",
              "\n",
              "    .dataframe thead th {\n",
              "        text-align: right;\n",
              "    }\n",
              "</style>\n",
              "<table border=\"1\" class=\"dataframe\">\n",
              "  <thead>\n",
              "    <tr style=\"text-align: right;\">\n",
              "      <th></th>\n",
              "      <th>Unnamed: 0</th>\n",
              "      <th>index</th>\n",
              "      <th>tconst</th>\n",
              "      <th>titleType</th>\n",
              "      <th>primaryTitle</th>\n",
              "      <th>originalTitle</th>\n",
              "      <th>isAdult</th>\n",
              "      <th>startYear</th>\n",
              "      <th>endYear</th>\n",
              "      <th>runtimeMinutes</th>\n",
              "      <th>...</th>\n",
              "      <th>averageRating</th>\n",
              "      <th>numVotes</th>\n",
              "      <th>ordering</th>\n",
              "      <th>title</th>\n",
              "      <th>region</th>\n",
              "      <th>language</th>\n",
              "      <th>types</th>\n",
              "      <th>attributes</th>\n",
              "      <th>isOriginalTitle</th>\n",
              "      <th>Description</th>\n",
              "    </tr>\n",
              "  </thead>\n",
              "  <tbody>\n",
              "    <tr>\n",
              "      <th>0</th>\n",
              "      <td>False</td>\n",
              "      <td>False</td>\n",
              "      <td>False</td>\n",
              "      <td>False</td>\n",
              "      <td>False</td>\n",
              "      <td>False</td>\n",
              "      <td>False</td>\n",
              "      <td>False</td>\n",
              "      <td>False</td>\n",
              "      <td>False</td>\n",
              "      <td>...</td>\n",
              "      <td>False</td>\n",
              "      <td>False</td>\n",
              "      <td>False</td>\n",
              "      <td>False</td>\n",
              "      <td>False</td>\n",
              "      <td>False</td>\n",
              "      <td>True</td>\n",
              "      <td>True</td>\n",
              "      <td>False</td>\n",
              "      <td>False</td>\n",
              "    </tr>\n",
              "    <tr>\n",
              "      <th>1</th>\n",
              "      <td>False</td>\n",
              "      <td>False</td>\n",
              "      <td>False</td>\n",
              "      <td>False</td>\n",
              "      <td>False</td>\n",
              "      <td>False</td>\n",
              "      <td>False</td>\n",
              "      <td>False</td>\n",
              "      <td>False</td>\n",
              "      <td>False</td>\n",
              "      <td>...</td>\n",
              "      <td>False</td>\n",
              "      <td>False</td>\n",
              "      <td>False</td>\n",
              "      <td>False</td>\n",
              "      <td>False</td>\n",
              "      <td>False</td>\n",
              "      <td>False</td>\n",
              "      <td>True</td>\n",
              "      <td>False</td>\n",
              "      <td>False</td>\n",
              "    </tr>\n",
              "    <tr>\n",
              "      <th>2</th>\n",
              "      <td>False</td>\n",
              "      <td>False</td>\n",
              "      <td>False</td>\n",
              "      <td>False</td>\n",
              "      <td>False</td>\n",
              "      <td>False</td>\n",
              "      <td>False</td>\n",
              "      <td>False</td>\n",
              "      <td>False</td>\n",
              "      <td>False</td>\n",
              "      <td>...</td>\n",
              "      <td>False</td>\n",
              "      <td>False</td>\n",
              "      <td>False</td>\n",
              "      <td>False</td>\n",
              "      <td>False</td>\n",
              "      <td>False</td>\n",
              "      <td>True</td>\n",
              "      <td>False</td>\n",
              "      <td>False</td>\n",
              "      <td>False</td>\n",
              "    </tr>\n",
              "    <tr>\n",
              "      <th>3</th>\n",
              "      <td>False</td>\n",
              "      <td>False</td>\n",
              "      <td>False</td>\n",
              "      <td>False</td>\n",
              "      <td>False</td>\n",
              "      <td>False</td>\n",
              "      <td>False</td>\n",
              "      <td>False</td>\n",
              "      <td>False</td>\n",
              "      <td>False</td>\n",
              "      <td>...</td>\n",
              "      <td>False</td>\n",
              "      <td>False</td>\n",
              "      <td>False</td>\n",
              "      <td>False</td>\n",
              "      <td>False</td>\n",
              "      <td>False</td>\n",
              "      <td>True</td>\n",
              "      <td>True</td>\n",
              "      <td>False</td>\n",
              "      <td>False</td>\n",
              "    </tr>\n",
              "    <tr>\n",
              "      <th>4</th>\n",
              "      <td>False</td>\n",
              "      <td>False</td>\n",
              "      <td>False</td>\n",
              "      <td>False</td>\n",
              "      <td>False</td>\n",
              "      <td>False</td>\n",
              "      <td>False</td>\n",
              "      <td>False</td>\n",
              "      <td>False</td>\n",
              "      <td>False</td>\n",
              "      <td>...</td>\n",
              "      <td>False</td>\n",
              "      <td>False</td>\n",
              "      <td>False</td>\n",
              "      <td>False</td>\n",
              "      <td>False</td>\n",
              "      <td>False</td>\n",
              "      <td>True</td>\n",
              "      <td>True</td>\n",
              "      <td>False</td>\n",
              "      <td>False</td>\n",
              "    </tr>\n",
              "  </tbody>\n",
              "</table>\n",
              "<p>5 rows × 21 columns</p>\n",
              "</div>\n",
              "    <div class=\"colab-df-buttons\">\n",
              "\n",
              "  <div class=\"colab-df-container\">\n",
              "    <button class=\"colab-df-convert\" onclick=\"convertToInteractive('df-6c525559-fa3e-436d-9a9a-2e4b4bf38d33')\"\n",
              "            title=\"Convert this dataframe to an interactive table.\"\n",
              "            style=\"display:none;\">\n",
              "\n",
              "  <svg xmlns=\"http://www.w3.org/2000/svg\" height=\"24px\" viewBox=\"0 -960 960 960\">\n",
              "    <path d=\"M120-120v-720h720v720H120Zm60-500h600v-160H180v160Zm220 220h160v-160H400v160Zm0 220h160v-160H400v160ZM180-400h160v-160H180v160Zm440 0h160v-160H620v160ZM180-180h160v-160H180v160Zm440 0h160v-160H620v160Z\"/>\n",
              "  </svg>\n",
              "    </button>\n",
              "\n",
              "  <style>\n",
              "    .colab-df-container {\n",
              "      display:flex;\n",
              "      gap: 12px;\n",
              "    }\n",
              "\n",
              "    .colab-df-convert {\n",
              "      background-color: #E8F0FE;\n",
              "      border: none;\n",
              "      border-radius: 50%;\n",
              "      cursor: pointer;\n",
              "      display: none;\n",
              "      fill: #1967D2;\n",
              "      height: 32px;\n",
              "      padding: 0 0 0 0;\n",
              "      width: 32px;\n",
              "    }\n",
              "\n",
              "    .colab-df-convert:hover {\n",
              "      background-color: #E2EBFA;\n",
              "      box-shadow: 0px 1px 2px rgba(60, 64, 67, 0.3), 0px 1px 3px 1px rgba(60, 64, 67, 0.15);\n",
              "      fill: #174EA6;\n",
              "    }\n",
              "\n",
              "    .colab-df-buttons div {\n",
              "      margin-bottom: 4px;\n",
              "    }\n",
              "\n",
              "    [theme=dark] .colab-df-convert {\n",
              "      background-color: #3B4455;\n",
              "      fill: #D2E3FC;\n",
              "    }\n",
              "\n",
              "    [theme=dark] .colab-df-convert:hover {\n",
              "      background-color: #434B5C;\n",
              "      box-shadow: 0px 1px 3px 1px rgba(0, 0, 0, 0.15);\n",
              "      filter: drop-shadow(0px 1px 2px rgba(0, 0, 0, 0.3));\n",
              "      fill: #FFFFFF;\n",
              "    }\n",
              "  </style>\n",
              "\n",
              "    <script>\n",
              "      const buttonEl =\n",
              "        document.querySelector('#df-6c525559-fa3e-436d-9a9a-2e4b4bf38d33 button.colab-df-convert');\n",
              "      buttonEl.style.display =\n",
              "        google.colab.kernel.accessAllowed ? 'block' : 'none';\n",
              "\n",
              "      async function convertToInteractive(key) {\n",
              "        const element = document.querySelector('#df-6c525559-fa3e-436d-9a9a-2e4b4bf38d33');\n",
              "        const dataTable =\n",
              "          await google.colab.kernel.invokeFunction('convertToInteractive',\n",
              "                                                    [key], {});\n",
              "        if (!dataTable) return;\n",
              "\n",
              "        const docLinkHtml = 'Like what you see? Visit the ' +\n",
              "          '<a target=\"_blank\" href=https://colab.research.google.com/notebooks/data_table.ipynb>data table notebook</a>'\n",
              "          + ' to learn more about interactive tables.';\n",
              "        element.innerHTML = '';\n",
              "        dataTable['output_type'] = 'display_data';\n",
              "        await google.colab.output.renderOutput(dataTable, element);\n",
              "        const docLink = document.createElement('div');\n",
              "        docLink.innerHTML = docLinkHtml;\n",
              "        element.appendChild(docLink);\n",
              "      }\n",
              "    </script>\n",
              "  </div>\n",
              "\n",
              "\n",
              "<div id=\"df-65716bef-af0f-4d46-a0a5-e11e950f3b36\">\n",
              "  <button class=\"colab-df-quickchart\" onclick=\"quickchart('df-65716bef-af0f-4d46-a0a5-e11e950f3b36')\"\n",
              "            title=\"Suggest charts\"\n",
              "            style=\"display:none;\">\n",
              "\n",
              "<svg xmlns=\"http://www.w3.org/2000/svg\" height=\"24px\"viewBox=\"0 0 24 24\"\n",
              "     width=\"24px\">\n",
              "    <g>\n",
              "        <path d=\"M19 3H5c-1.1 0-2 .9-2 2v14c0 1.1.9 2 2 2h14c1.1 0 2-.9 2-2V5c0-1.1-.9-2-2-2zM9 17H7v-7h2v7zm4 0h-2V7h2v10zm4 0h-2v-4h2v4z\"/>\n",
              "    </g>\n",
              "</svg>\n",
              "  </button>\n",
              "\n",
              "<style>\n",
              "  .colab-df-quickchart {\n",
              "      --bg-color: #E8F0FE;\n",
              "      --fill-color: #1967D2;\n",
              "      --hover-bg-color: #E2EBFA;\n",
              "      --hover-fill-color: #174EA6;\n",
              "      --disabled-fill-color: #AAA;\n",
              "      --disabled-bg-color: #DDD;\n",
              "  }\n",
              "\n",
              "  [theme=dark] .colab-df-quickchart {\n",
              "      --bg-color: #3B4455;\n",
              "      --fill-color: #D2E3FC;\n",
              "      --hover-bg-color: #434B5C;\n",
              "      --hover-fill-color: #FFFFFF;\n",
              "      --disabled-bg-color: #3B4455;\n",
              "      --disabled-fill-color: #666;\n",
              "  }\n",
              "\n",
              "  .colab-df-quickchart {\n",
              "    background-color: var(--bg-color);\n",
              "    border: none;\n",
              "    border-radius: 50%;\n",
              "    cursor: pointer;\n",
              "    display: none;\n",
              "    fill: var(--fill-color);\n",
              "    height: 32px;\n",
              "    padding: 0;\n",
              "    width: 32px;\n",
              "  }\n",
              "\n",
              "  .colab-df-quickchart:hover {\n",
              "    background-color: var(--hover-bg-color);\n",
              "    box-shadow: 0 1px 2px rgba(60, 64, 67, 0.3), 0 1px 3px 1px rgba(60, 64, 67, 0.15);\n",
              "    fill: var(--button-hover-fill-color);\n",
              "  }\n",
              "\n",
              "  .colab-df-quickchart-complete:disabled,\n",
              "  .colab-df-quickchart-complete:disabled:hover {\n",
              "    background-color: var(--disabled-bg-color);\n",
              "    fill: var(--disabled-fill-color);\n",
              "    box-shadow: none;\n",
              "  }\n",
              "\n",
              "  .colab-df-spinner {\n",
              "    border: 2px solid var(--fill-color);\n",
              "    border-color: transparent;\n",
              "    border-bottom-color: var(--fill-color);\n",
              "    animation:\n",
              "      spin 1s steps(1) infinite;\n",
              "  }\n",
              "\n",
              "  @keyframes spin {\n",
              "    0% {\n",
              "      border-color: transparent;\n",
              "      border-bottom-color: var(--fill-color);\n",
              "      border-left-color: var(--fill-color);\n",
              "    }\n",
              "    20% {\n",
              "      border-color: transparent;\n",
              "      border-left-color: var(--fill-color);\n",
              "      border-top-color: var(--fill-color);\n",
              "    }\n",
              "    30% {\n",
              "      border-color: transparent;\n",
              "      border-left-color: var(--fill-color);\n",
              "      border-top-color: var(--fill-color);\n",
              "      border-right-color: var(--fill-color);\n",
              "    }\n",
              "    40% {\n",
              "      border-color: transparent;\n",
              "      border-right-color: var(--fill-color);\n",
              "      border-top-color: var(--fill-color);\n",
              "    }\n",
              "    60% {\n",
              "      border-color: transparent;\n",
              "      border-right-color: var(--fill-color);\n",
              "    }\n",
              "    80% {\n",
              "      border-color: transparent;\n",
              "      border-right-color: var(--fill-color);\n",
              "      border-bottom-color: var(--fill-color);\n",
              "    }\n",
              "    90% {\n",
              "      border-color: transparent;\n",
              "      border-bottom-color: var(--fill-color);\n",
              "    }\n",
              "  }\n",
              "</style>\n",
              "\n",
              "  <script>\n",
              "    async function quickchart(key) {\n",
              "      const quickchartButtonEl =\n",
              "        document.querySelector('#' + key + ' button');\n",
              "      quickchartButtonEl.disabled = true;  // To prevent multiple clicks.\n",
              "      quickchartButtonEl.classList.add('colab-df-spinner');\n",
              "      try {\n",
              "        const charts = await google.colab.kernel.invokeFunction(\n",
              "            'suggestCharts', [key], {});\n",
              "      } catch (error) {\n",
              "        console.error('Error during call to suggestCharts:', error);\n",
              "      }\n",
              "      quickchartButtonEl.classList.remove('colab-df-spinner');\n",
              "      quickchartButtonEl.classList.add('colab-df-quickchart-complete');\n",
              "    }\n",
              "    (() => {\n",
              "      let quickchartButtonEl =\n",
              "        document.querySelector('#df-65716bef-af0f-4d46-a0a5-e11e950f3b36 button');\n",
              "      quickchartButtonEl.style.display =\n",
              "        google.colab.kernel.accessAllowed ? 'block' : 'none';\n",
              "    })();\n",
              "  </script>\n",
              "</div>\n",
              "    </div>\n",
              "  </div>\n"
            ]
          },
          "metadata": {},
          "execution_count": 35
        }
      ]
    },
    {
      "cell_type": "code",
      "source": [
        "#Count missing values in each column\n",
        "\n",
        "\n",
        "for column in missing_data.columns.values.tolist():\n",
        "    print(column)\n",
        "    print (missing_data[column].value_counts())\n",
        "    print(\"\")"
      ],
      "metadata": {
        "id": "ajC0Z8mfe8Iq",
        "colab": {
          "base_uri": "https://localhost:8080/"
        },
        "outputId": "2c456ef7-2681-4938-9cc7-7d30224f5ab4"
      },
      "execution_count": 36,
      "outputs": [
        {
          "output_type": "stream",
          "name": "stdout",
          "text": [
            "Unnamed: 0\n",
            "False    7850\n",
            "Name: Unnamed: 0, dtype: int64\n",
            "\n",
            "index\n",
            "False    7850\n",
            "Name: index, dtype: int64\n",
            "\n",
            "tconst\n",
            "False    7850\n",
            "Name: tconst, dtype: int64\n",
            "\n",
            "titleType\n",
            "False    7850\n",
            "Name: titleType, dtype: int64\n",
            "\n",
            "primaryTitle\n",
            "False    7850\n",
            "Name: primaryTitle, dtype: int64\n",
            "\n",
            "originalTitle\n",
            "False    7850\n",
            "Name: originalTitle, dtype: int64\n",
            "\n",
            "isAdult\n",
            "False    7850\n",
            "Name: isAdult, dtype: int64\n",
            "\n",
            "startYear\n",
            "False    7850\n",
            "Name: startYear, dtype: int64\n",
            "\n",
            "endYear\n",
            "False    7850\n",
            "Name: endYear, dtype: int64\n",
            "\n",
            "runtimeMinutes\n",
            "False    7727\n",
            "True      123\n",
            "Name: runtimeMinutes, dtype: int64\n",
            "\n",
            "genres\n",
            "False    7848\n",
            "True        2\n",
            "Name: genres, dtype: int64\n",
            "\n",
            "averageRating\n",
            "False    7850\n",
            "Name: averageRating, dtype: int64\n",
            "\n",
            "numVotes\n",
            "False    7850\n",
            "Name: numVotes, dtype: int64\n",
            "\n",
            "ordering\n",
            "False    7850\n",
            "Name: ordering, dtype: int64\n",
            "\n",
            "title\n",
            "False    7850\n",
            "Name: title, dtype: int64\n",
            "\n",
            "region\n",
            "False    7850\n",
            "Name: region, dtype: int64\n",
            "\n",
            "language\n",
            "False    7850\n",
            "Name: language, dtype: int64\n",
            "\n",
            "types\n",
            "False    7480\n",
            "True      370\n",
            "Name: types, dtype: int64\n",
            "\n",
            "attributes\n",
            "True     7781\n",
            "False      69\n",
            "Name: attributes, dtype: int64\n",
            "\n",
            "isOriginalTitle\n",
            "False    7850\n",
            "Name: isOriginalTitle, dtype: int64\n",
            "\n",
            "Description\n",
            "False    7662\n",
            "True      188\n",
            "Name: Description, dtype: int64\n",
            "\n"
          ]
        }
      ]
    },
    {
      "cell_type": "markdown",
      "source": [
        "Based on the query above we can see that only Description has missing data.\n",
        "All the other columns don't have missing date."
      ],
      "metadata": {
        "id": "05y7pSehfbp4"
      }
    },
    {
      "cell_type": "code",
      "source": [
        "#print(DF_IMDB['Description'])\n",
        "\n",
        "\n",
        "filas_nulas = DF_IMDB[DF_IMDB['Description'].isnull()]\n",
        "\n",
        "# Imprimir las filas con valores nulos en 'nombre_columna'\n",
        "print(filas_nulas)"
      ],
      "metadata": {
        "colab": {
          "base_uri": "https://localhost:8080/"
        },
        "id": "YEq2Ar7gjbmu",
        "outputId": "17ee610a-ae68-4ab5-d794-fef28cbfa190"
      },
      "execution_count": 37,
      "outputs": [
        {
          "output_type": "stream",
          "name": "stdout",
          "text": [
            "      Unnamed: 0  index      tconst  titleType        primaryTitle  \\\n",
            "47            47    167   tt0919370  tvEpisode           Encounter   \n",
            "50            50    177   tt0947906  tvEpisode               Wager   \n",
            "52            52    181   tt0950513  tvEpisode           Execution   \n",
            "54            54    190   tt0990612  tvEpisode             Revival   \n",
            "82            82    281  tt11866324      movie                Prey   \n",
            "...          ...    ...         ...        ...                 ...   \n",
            "7769        7769  10176   tt7843600      movie          Fyre Fraud   \n",
            "7778        7778  10185   tt8015444      movie  Last and First Men   \n",
            "7799        7799  10211   tt8359842      movie   It Must Be Heaven   \n",
            "7828        7828  10246   tt9118930   tvSeries           Wild Bill   \n",
            "7837        7837  10259   tt9581076      movie     So Long, My Son   \n",
            "\n",
            "           originalTitle  isAdult  startYear      endYear runtimeMinutes  ...  \\\n",
            "47              Sesshoku        0       2006  2015.847293             23  ...   \n",
            "50                  Kake        0       2007  2015.847293             23  ...   \n",
            "52               Shikkou        0       2007  2015.847293             23  ...   \n",
            "54              Fukkatsu        0       2007  2015.847293             24  ...   \n",
            "82                  Prey        0       2022  2015.847293            100  ...   \n",
            "...                  ...      ...        ...          ...            ...  ...   \n",
            "7769          Fyre Fraud        0       2019  2015.847293             96  ...   \n",
            "7778  Last and First Men        0       2020  2015.847293             70  ...   \n",
            "7799   It Must Be Heaven        0       2019  2015.847293            102  ...   \n",
            "7828           Wild Bill        0       2019  2019.000000             45  ...   \n",
            "7837    Di jiu tianchang        0       2019  2015.847293            185  ...   \n",
            "\n",
            "     averageRating  numVotes  ordering               title region language  \\\n",
            "47             8.5      4136         2           Encounter     US       en   \n",
            "50             8.8      4072         2               Wager     US       en   \n",
            "52             8.0      3748         1           Execution     US       en   \n",
            "54             9.2      5375         1             Revival     US       en   \n",
            "82             7.1    208923        15                Prey     US       en   \n",
            "...            ...       ...       ...                 ...    ...      ...   \n",
            "7769           6.8      6697         3          Fyre Fraud     CA       en   \n",
            "7778           6.7      4056        23  Last and First Men     CA       en   \n",
            "7799           7.0      5240        31   It Must Be Heaven     CA       en   \n",
            "7828           6.9      3046         5           Wild Bill     CA       en   \n",
            "7837           7.7      4864        21     So Long, My Son     CA       en   \n",
            "\n",
            "            types attributes isOriginalTitle  Description  \n",
            "47           <NA>       <NA>               0          NaN  \n",
            "50           <NA>       <NA>               0          NaN  \n",
            "52           <NA>       <NA>               0          NaN  \n",
            "54           <NA>       <NA>               0          NaN  \n",
            "82           <NA>       <NA>               0          NaN  \n",
            "...           ...        ...             ...          ...  \n",
            "7769  imdbDisplay       <NA>               0          NaN  \n",
            "7778  imdbDisplay       <NA>               0          NaN  \n",
            "7799  imdbDisplay       <NA>               0          NaN  \n",
            "7828  imdbDisplay       <NA>               0          NaN  \n",
            "7837  imdbDisplay       <NA>               0          NaN  \n",
            "\n",
            "[188 rows x 21 columns]\n"
          ]
        }
      ]
    },
    {
      "cell_type": "code",
      "source": [
        "pip install tabulate\n"
      ],
      "metadata": {
        "colab": {
          "base_uri": "https://localhost:8080/"
        },
        "id": "qpjK2yqXmahP",
        "outputId": "d37fa3b5-74c8-404e-ff56-65ed25c6a087"
      },
      "execution_count": 38,
      "outputs": [
        {
          "output_type": "stream",
          "name": "stdout",
          "text": [
            "Requirement already satisfied: tabulate in /usr/local/lib/python3.10/dist-packages (0.9.0)\n"
          ]
        }
      ]
    },
    {
      "cell_type": "code",
      "source": [
        "import pandas as pd\n",
        "from tabulate import tabulate\n",
        "\n",
        "# Supongamos que ya tienes un DataFrame llamado DF_IMDB\n",
        "# Armo mi DataFrame con las columnas que yo quiero\n",
        "columnas_seleccionadas = ['titleType', 'primaryTitle', 'originalTitle', 'startYear', 'numVotes', 'title', 'genres']\n",
        "\n",
        "# Seleccionar solo las columnas deseadas del DataFrame\n",
        "DF_seleccionado = DF_IMDB[columnas_seleccionadas]\n",
        "\n",
        "# Mostrar solo las primeras 10 filas del DataFrame\n",
        "DF_menos_filas = DF_seleccionado.head(40)\n",
        "\n",
        "# Imprimir el DataFrame resultante de manera más organizada y en forma de tabla\n",
        "print(tabulate(DF_menos_filas, headers='keys', tablefmt='fancy_grid', showindex=False))\n",
        "\n"
      ],
      "metadata": {
        "colab": {
          "base_uri": "https://localhost:8080/"
        },
        "id": "qlmkM-SNk9RA",
        "outputId": "5ca924b3-7d56-4491-b237-9d400b98106e"
      },
      "execution_count": 39,
      "outputs": [
        {
          "output_type": "stream",
          "name": "stdout",
          "text": [
            "╒══════════════╤════════════════════════════════════════════════════╤════════════════════════════════════════════════════════════════╤═════════════╤════════════╤════════════════════════════════════════════════════╤════════════════════════════╕\n",
            "│ titleType    │ primaryTitle                                       │ originalTitle                                                  │   startYear │   numVotes │ title                                              │ genres                     │\n",
            "╞══════════════╪════════════════════════════════════════════════════╪════════════════════════════════════════════════════════════════╪═════════════╪════════════╪════════════════════════════════════════════════════╪════════════════════════════╡\n",
            "│ movie        │ The Silence of the Lambs                           │ The Silence of the Lambs                                       │        1991 │    1473918 │ The Silence of the Lambs                           │ Crime,Drama,Thriller       │\n",
            "├──────────────┼────────────────────────────────────────────────────┼────────────────────────────────────────────────────────────────┼─────────────┼────────────┼────────────────────────────────────────────────────┼────────────────────────────┤\n",
            "│ movie        │ Terminator 2: Judgment Day                         │ Terminator 2: Judgment Day                                     │        1991 │    1128166 │ Terminator 2: Judgment Day                         │ Action,Sci-Fi              │\n",
            "├──────────────┼────────────────────────────────────────────────────┼────────────────────────────────────────────────────────────────┼─────────────┼────────────┼────────────────────────────────────────────────────┼────────────────────────────┤\n",
            "│ movie        │ The Lion King                                      │ The Lion King                                                  │        1994 │    1090882 │ The Lion King 3D                                   │ Adventure,Animation,Drama  │\n",
            "├──────────────┼────────────────────────────────────────────────────┼────────────────────────────────────────────────────────────────┼─────────────┼────────────┼────────────────────────────────────────────────────┼────────────────────────────┤\n",
            "│ movie        │ Pulp Fiction                                       │ Pulp Fiction                                                   │        1994 │    2118762 │ Pulp Fiction                                       │ Crime,Drama                │\n",
            "├──────────────┼────────────────────────────────────────────────────┼────────────────────────────────────────────────────────────────┼─────────────┼────────────┼────────────────────────────────────────────────────┼────────────────────────────┤\n",
            "│ movie        │ The Shawshank Redemption                           │ The Shawshank Redemption                                       │        1994 │    2759621 │ The Shawshank Redemption                           │ Drama                      │\n",
            "├──────────────┼────────────────────────────────────────────────────┼────────────────────────────────────────────────────────────────┼─────────────┼────────────┼────────────────────────────────────────────────────┼────────────────────────────┤\n",
            "│ movie        │ Titanic                                            │ Titanic                                                        │        1997 │    1226536 │ Titanic                                            │ Drama,Romance              │\n",
            "├──────────────┼────────────────────────────────────────────────────┼────────────────────────────────────────────────────────────────┼─────────────┼────────────┼────────────────────────────────────────────────────┼────────────────────────────┤\n",
            "│ movie        │ Corpse Bride                                       │ Corpse Bride                                                   │        2005 │     285146 │ Corpse Bride                                       │ Animation,Drama,Family     │\n",
            "├──────────────┼────────────────────────────────────────────────────┼────────────────────────────────────────────────────────────────┼─────────────┼────────────┼────────────────────────────────────────────────────┼────────────────────────────┤\n",
            "│ movie        │ Gladiator                                          │ Gladiator                                                      │        2000 │    1542458 │ Gladiator                                          │ Action,Adventure,Drama     │\n",
            "├──────────────┼────────────────────────────────────────────────────┼────────────────────────────────────────────────────────────────┼─────────────┼────────────┼────────────────────────────────────────────────────┼────────────────────────────┤\n",
            "│ movie        │ A.I. Artificial Intelligence                       │ A.I. Artificial Intelligence                                   │        2001 │     315458 │ A.I. Artificial Intelligence                       │ Drama,Sci-Fi               │\n",
            "├──────────────┼────────────────────────────────────────────────────┼────────────────────────────────────────────────────────────────┼─────────────┼────────────┼────────────────────────────────────────────────────┼────────────────────────────┤\n",
            "│ tvMiniSeries │ Egypt Uncovered                                    │ Egypt                                                          │        1998 │         69 │ Egypt Uncovered                                    │ Documentary                │\n",
            "├──────────────┼────────────────────────────────────────────────────┼────────────────────────────────────────────────────────────────┼─────────────┼────────────┼────────────────────────────────────────────────────┼────────────────────────────┤\n",
            "│ tvSeries     │ Transformers: Robots in Disguise                   │ Toransufômâ: Kârobotto                                         │        2000 │        577 │ Transformers: Robots in Disguise                   │ Action,Adventure,Animation │\n",
            "├──────────────┼────────────────────────────────────────────────────┼────────────────────────────────────────────────────────────────┼─────────────┼────────────┼────────────────────────────────────────────────────┼────────────────────────────┤\n",
            "│ tvSeries     │ Star Trek: Enterprise                              │ Enterprise                                                     │        2001 │      56151 │ Star Trek: Enterprise                              │ Action,Adventure,Drama     │\n",
            "├──────────────┼────────────────────────────────────────────────────┼────────────────────────────────────────────────────────────────┼─────────────┼────────────┼────────────────────────────────────────────────────┼────────────────────────────┤\n",
            "│ movie        │ The Dummy                                          │ Dummy                                                          │        2002 │       6790 │ The Dummy                                          │ Comedy,Drama,Romance       │\n",
            "├──────────────┼────────────────────────────────────────────────────┼────────────────────────────────────────────────────────────────┼─────────────┼────────────┼────────────────────────────────────────────────────┼────────────────────────────┤\n",
            "│ movie        │ The Pianist                                        │ The Pianist                                                    │        2002 │     860569 │ The Pianist                                        │ Biography,Drama,Music      │\n",
            "├──────────────┼────────────────────────────────────────────────────┼────────────────────────────────────────────────────────────────┼─────────────┼────────────┼────────────────────────────────────────────────────┼────────────────────────────┤\n",
            "│ tvMovie      │ The Wedding                                        │ La Boda                                                        │        2000 │         11 │ The Wedding                                        │ Documentary                │\n",
            "├──────────────┼────────────────────────────────────────────────────┼────────────────────────────────────────────────────────────────┼─────────────┼────────────┼────────────────────────────────────────────────────┼────────────────────────────┤\n",
            "│ tvSeries     │ Aqua Teen Hunger Force                             │ Aqua Teen Hunger Force                                         │        2000 │      26073 │ Aqua Teen Hunger Force                             │ Animation,Comedy           │\n",
            "├──────────────┼────────────────────────────────────────────────────┼────────────────────────────────────────────────────────────────┼─────────────┼────────────┼────────────────────────────────────────────────────┼────────────────────────────┤\n",
            "│ movie        │ Chances Are                                        │ Vat Doi Sao Doi                                                │        2001 │         44 │ Chances Are                                        │ Comedy,Romance             │\n",
            "├──────────────┼────────────────────────────────────────────────────┼────────────────────────────────────────────────────────────────┼─────────────┼────────────┼────────────────────────────────────────────────────┼────────────────────────────┤\n",
            "│ movie        │ The Incredibles                                    │ The Incredibles                                                │        2004 │     766397 │ The Incredibles                                    │ Action,Adventure,Animation │\n",
            "├──────────────┼────────────────────────────────────────────────────┼────────────────────────────────────────────────────────────────┼─────────────┼────────────┼────────────────────────────────────────────────────┼────────────────────────────┤\n",
            "│ movie        │ Coraline                                           │ Coraline                                                       │        2009 │     244739 │ Coraline                                           │ Animation,Drama,Family     │\n",
            "├──────────────┼────────────────────────────────────────────────────┼────────────────────────────────────────────────────────────────┼─────────────┼────────────┼────────────────────────────────────────────────────┼────────────────────────────┤\n",
            "│ movie        │ School of Rock                                     │ School of Rock                                                 │        2003 │     317593 │ School of Rock                                     │ Comedy,Music               │\n",
            "├──────────────┼────────────────────────────────────────────────────┼────────────────────────────────────────────────────────────────┼─────────────┼────────────┼────────────────────────────────────────────────────┼────────────────────────────┤\n",
            "│ movie        │ Lost in New Mexico: The Strange Tale of Susan Hero │ Susan Hero                                                     │        2007 │         26 │ Lost in New Mexico: The Strange Tale of Susan Hero │ Drama,Romance,Sci-Fi       │\n",
            "├──────────────┼────────────────────────────────────────────────────┼────────────────────────────────────────────────────────────────┼─────────────┼────────────┼────────────────────────────────────────────────────┼────────────────────────────┤\n",
            "│ movie        │ Collateral                                         │ Collateral                                                     │        2004 │     417391 │ Collateral                                         │ Action,Crime,Drama         │\n",
            "├──────────────┼────────────────────────────────────────────────────┼────────────────────────────────────────────────────────────────┼─────────────┼────────────┼────────────────────────────────────────────────────┼────────────────────────────┤\n",
            "│ movie        │ Anniyan                                            │ Anniyan                                                        │        2005 │      19795 │ The Stranger                                       │ Action,Crime,Drama         │\n",
            "├──────────────┼────────────────────────────────────────────────────┼────────────────────────────────────────────────────────────────┼─────────────┼────────────┼────────────────────────────────────────────────────┼────────────────────────────┤\n",
            "│ movie        │ Malfunkshun: The Andrew Wood Story                 │ Malfunkshun: The Andrew Wood Story                             │        2005 │        145 │ Malfunkshun: The Andrew Wood Story                 │ Documentary,Music          │\n",
            "├──────────────┼────────────────────────────────────────────────────┼────────────────────────────────────────────────────────────────┼─────────────┼────────────┼────────────────────────────────────────────────────┼────────────────────────────┤\n",
            "│ movie        │ The Island                                         │ The Island                                                     │        2005 │     321582 │ The Island                                         │ Action,Sci-Fi,Thriller     │\n",
            "├──────────────┼────────────────────────────────────────────────────┼────────────────────────────────────────────────────────────────┼─────────────┼────────────┼────────────────────────────────────────────────────┼────────────────────────────┤\n",
            "│ movie        │ The Departed                                       │ The Departed                                                   │        2006 │    1362209 │ The Departed                                       │ Crime,Drama,Thriller       │\n",
            "├──────────────┼────────────────────────────────────────────────────┼────────────────────────────────────────────────────────────────┼─────────────┼────────────┼────────────────────────────────────────────────────┼────────────────────────────┤\n",
            "│ tvSeries     │ House                                              │ House M.D.                                                     │        2004 │     482566 │ House                                              │ Drama,Mystery              │\n",
            "├──────────────┼────────────────────────────────────────────────────┼────────────────────────────────────────────────────────────────┼─────────────┼────────────┼────────────────────────────────────────────────────┼────────────────────────────┤\n",
            "│ movie        │ Mrs. Henderson Presents                            │ Mrs. Henderson Presents                                        │        2005 │      16107 │ Mrs. Henderson Presents                            │ Comedy,Drama,Music         │\n",
            "├──────────────┼────────────────────────────────────────────────────┼────────────────────────────────────────────────────────────────┼─────────────┼────────────┼────────────────────────────────────────────────────┼────────────────────────────┤\n",
            "│ movie        │ Two Sons of Francisco                              │ 2 Filhos de Francisco: A História de Zezé di Camargo & Luciano │        2005 │       5946 │ Two Sons of Francisco                              │ Biography,Drama,Music      │\n",
            "├──────────────┼────────────────────────────────────────────────────┼────────────────────────────────────────────────────────────────┼─────────────┼────────────┼────────────────────────────────────────────────────┼────────────────────────────┤\n",
            "│ movie        │ Brand Upon the Brain!                              │ Brand Upon the Brain! A Remembrance in 12 Chapters             │        2006 │       3637 │ Brand Upon the Brain!                              │ Comedy,Drama,Fantasy       │\n",
            "├──────────────┼────────────────────────────────────────────────────┼────────────────────────────────────────────────────────────────┼─────────────┼────────────┼────────────────────────────────────────────────────┼────────────────────────────┤\n",
            "│ movie        │ Hoodwinked                                         │ Hoodwinked!                                                    │        2005 │      64072 │ Hoodwinked                                         │ Adventure,Animation,Comedy │\n",
            "├──────────────┼────────────────────────────────────────────────────┼────────────────────────────────────────────────────────────────┼─────────────┼────────────┼────────────────────────────────────────────────────┼────────────────────────────┤\n",
            "│ movie        │ Wonder Woman                                       │ Wonder Woman                                                   │        2017 │     677305 │ Wonder Woman                                       │ Action,Adventure,Fantasy   │\n",
            "├──────────────┼────────────────────────────────────────────────────┼────────────────────────────────────────────────────────────────┼─────────────┼────────────┼────────────────────────────────────────────────────┼────────────────────────────┤\n",
            "│ movie        │ Vettaiyaadu Vilaiyaadu                             │ Vettaiyaadu Vilaiyaadu                                         │        2006 │       7995 │ The Smart Hunt                                     │ Action,Crime,Drama         │\n",
            "├──────────────┼────────────────────────────────────────────────────┼────────────────────────────────────────────────────────────────┼─────────────┼────────────┼────────────────────────────────────────────────────┼────────────────────────────┤\n",
            "│ movie        │ The Equalizer                                      │ The Equalizer                                                  │        2014 │     386260 │ The Equalizer                                      │ Action,Crime,Thriller      │\n",
            "├──────────────┼────────────────────────────────────────────────────┼────────────────────────────────────────────────────────────────┼─────────────┼────────────┼────────────────────────────────────────────────────┼────────────────────────────┤\n",
            "│ movie        │ Khosla Ka Ghosla!                                  │ Khosla Ka Ghosla!                                              │        2006 │      24478 │ Khosla's Nest                                      │ Comedy,Crime,Drama         │\n",
            "├──────────────┼────────────────────────────────────────────────────┼────────────────────────────────────────────────────────────────┼─────────────┼────────────┼────────────────────────────────────────────────────┼────────────────────────────┤\n",
            "│ movie        │ The Dark Knight                                    │ The Dark Knight                                                │        2008 │    2732611 │ The Dark Knight                                    │ Action,Crime,Drama         │\n",
            "├──────────────┼────────────────────────────────────────────────────┼────────────────────────────────────────────────────────────────┼─────────────┼────────────┼────────────────────────────────────────────────────┼────────────────────────────┤\n",
            "│ movie        │ Alan Partridge                                     │ Alan Partridge: Alpha Papa                                     │        2013 │      32515 │ Alan Partridge                                     │ Action,Comedy,Crime        │\n",
            "├──────────────┼────────────────────────────────────────────────────┼────────────────────────────────────────────────────────────────┼─────────────┼────────────┼────────────────────────────────────────────────────┼────────────────────────────┤\n",
            "│ movie        │ Awesome; I Shot That!                              │ Awesome; I Fuckin' Shot That!                                  │        2006 │        975 │ Awesome; I Shot That!                              │ Documentary,Music          │\n",
            "├──────────────┼────────────────────────────────────────────────────┼────────────────────────────────────────────────────────────────┼─────────────┼────────────┼────────────────────────────────────────────────────┼────────────────────────────┤\n",
            "│ movie        │ Silence                                            │ Silence                                                        │        2016 │     117191 │ Silence                                            │ Drama,History              │\n",
            "├──────────────┼────────────────────────────────────────────────────┼────────────────────────────────────────────────────────────────┼─────────────┼────────────┼────────────────────────────────────────────────────┼────────────────────────────┤\n",
            "│ movie        │ Inner Circle Line                                  │ Nae-boo-soon-hwan-seon                                         │        2006 │         39 │ Inner Circle Line                                  │ Drama                      │\n",
            "╘══════════════╧════════════════════════════════════════════════════╧════════════════════════════════════════════════════════════════╧═════════════╧════════════╧════════════════════════════════════════════════════╧════════════════════════════╛\n"
          ]
        }
      ]
    },
    {
      "cell_type": "code",
      "source": [
        "#eliminar los datos nulos de Description\n",
        "\n",
        "DF_IMDB.dropna(subset=['Description'], inplace=True)\n"
      ],
      "metadata": {
        "id": "jcGE-wDqlRqq"
      },
      "execution_count": 40,
      "outputs": []
    },
    {
      "cell_type": "code",
      "source": [
        "#reviso lo procesado\n",
        "#cantidad de valores nulos por columna\n",
        "\n",
        "DF_IMDB.isna().sum().sort_values(ascending=False)"
      ],
      "metadata": {
        "colab": {
          "base_uri": "https://localhost:8080/"
        },
        "id": "jx1AzRIIleFC",
        "outputId": "14f8be0c-0555-4347-f309-70603a6c930f"
      },
      "execution_count": 41,
      "outputs": [
        {
          "output_type": "execute_result",
          "data": {
            "text/plain": [
              "attributes         7595\n",
              "types               355\n",
              "runtimeMinutes      122\n",
              "genres                1\n",
              "averageRating         0\n",
              "isOriginalTitle       0\n",
              "language              0\n",
              "region                0\n",
              "title                 0\n",
              "ordering              0\n",
              "numVotes              0\n",
              "Unnamed: 0            0\n",
              "index                 0\n",
              "endYear               0\n",
              "startYear             0\n",
              "isAdult               0\n",
              "originalTitle         0\n",
              "primaryTitle          0\n",
              "titleType             0\n",
              "tconst                0\n",
              "Description           0\n",
              "dtype: int64"
            ]
          },
          "metadata": {},
          "execution_count": 41
        }
      ]
    }
  ]
}